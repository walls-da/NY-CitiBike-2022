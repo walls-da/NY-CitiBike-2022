{
 "cells": [
  {
   "cell_type": "markdown",
   "id": "a6a6bbcf-fc64-47c7-94f1-ff30662950a7",
   "metadata": {},
   "source": [
    "## NY Bike 2022 Visualization 1"
   ]
  },
  {
   "cell_type": "markdown",
   "id": "ba00cad2-c0c3-4f1a-ba0c-03d9f194fc6d",
   "metadata": {
    "tags": []
   },
   "source": [
    "### Contents:\n",
    "\n",
    "1. Imports\n",
    "2. Setting up data\n",
    "3. Plotting temperature\n",
    "4. Aggregating Trips\n",
    "5. Plotting trips and temperature\n",
    "6. Exports"
   ]
  },
  {
   "cell_type": "markdown",
   "id": "5b151b64-169a-4aae-a235-d9e370fe619e",
   "metadata": {
    "jp-MarkdownHeadingCollapsed": true,
    "tags": []
   },
   "source": [
    "#### 1. Imports"
   ]
  },
  {
   "cell_type": "code",
   "execution_count": 1,
   "id": "332c5583-0671-4538-9e16-cca15d7ac2d2",
   "metadata": {
    "tags": []
   },
   "outputs": [],
   "source": [
    "# Import libraries\n",
    "\n",
    "import pandas as pd\n",
    "from matplotlib import pyplot as plt\n",
    "import numpy as np\n",
    "from datetime import datetime as dt"
   ]
  },
  {
   "cell_type": "code",
   "execution_count": 2,
   "id": "b43d42a4-0756-4739-83ae-cfaadc1b2705",
   "metadata": {
    "tags": []
   },
   "outputs": [
    {
     "data": {
      "text/plain": [
       "'3.7.1'"
      ]
     },
     "execution_count": 2,
     "metadata": {},
     "output_type": "execute_result"
    }
   ],
   "source": [
    "import matplotlib\n",
    "matplotlib.__version__"
   ]
  },
  {
   "cell_type": "code",
   "execution_count": 3,
   "id": "1314ae0d-7e9a-42d1-b572-0ac7d78478bb",
   "metadata": {
    "collapsed": true,
    "jupyter": {
     "outputs_hidden": true
    },
    "tags": []
   },
   "outputs": [
    {
     "name": "stderr",
     "output_type": "stream",
     "text": [
      "C:\\Users\\walls\\AppData\\Local\\Temp\\ipykernel_15028\\2158320466.py:3: DtypeWarning: Columns (6,8) have mixed types. Specify dtype option on import or set low_memory=False.\n",
      "  df = pd.read_csv('merged_NY_data.csv', index_col=0)\n"
     ]
    }
   ],
   "source": [
    "# Import data frame\n",
    "\n",
    "df = pd.read_csv('merged_NY_data.csv', index_col=0)"
   ]
  },
  {
   "cell_type": "code",
   "execution_count": 30,
   "id": "772fa139-ce8b-42d4-bbc5-7c79bc1dc0c1",
   "metadata": {
    "tags": []
   },
   "outputs": [
    {
     "data": {
      "text/plain": [
       "(29838806, 16)"
      ]
     },
     "execution_count": 30,
     "metadata": {},
     "output_type": "execute_result"
    }
   ],
   "source": [
    "df.shape"
   ]
  },
  {
   "cell_type": "code",
   "execution_count": 5,
   "id": "9aead894-2ce6-4205-a594-9e87a7923ff5",
   "metadata": {
    "tags": []
   },
   "outputs": [
    {
     "data": {
      "text/plain": [
       "Index(['ride_id', 'rideable_type', 'started_at', 'ended_at',\n",
       "       'start_station_name', 'start_station_id', 'end_station_name',\n",
       "       'end_station_id', 'start_lat', 'start_lng', 'end_lat', 'end_lng',\n",
       "       'member_casual', 'date', 'avgTemp', '_merge'],\n",
       "      dtype='object')"
      ]
     },
     "execution_count": 5,
     "metadata": {},
     "output_type": "execute_result"
    }
   ],
   "source": [
    "df.columns"
   ]
  },
  {
   "cell_type": "markdown",
   "id": "8290d7a8-e81f-4fea-b2c2-9d9c5f639b94",
   "metadata": {
    "jp-MarkdownHeadingCollapsed": true,
    "tags": []
   },
   "source": [
    "#### 2. Setting up data"
   ]
  },
  {
   "cell_type": "code",
   "execution_count": 6,
   "id": "d8c43160-53a6-4ad3-9f76-76294e2e045e",
   "metadata": {},
   "outputs": [],
   "source": [
    "# Subset data to avoid memory errors \n",
    "\n",
    "df_sample = df.sample(n=1_000_000)"
   ]
  },
  {
   "cell_type": "code",
   "execution_count": 7,
   "id": "eb644be4-6959-4df4-bc36-9ef230d57821",
   "metadata": {
    "tags": []
   },
   "outputs": [
    {
     "data": {
      "text/plain": [
       "(1000000, 16)"
      ]
     },
     "execution_count": 7,
     "metadata": {},
     "output_type": "execute_result"
    }
   ],
   "source": [
    "df_sample.shape"
   ]
  },
  {
   "cell_type": "code",
   "execution_count": 8,
   "id": "061b478f-ae46-4c6a-8169-de6c169c8bea",
   "metadata": {
    "tags": []
   },
   "outputs": [],
   "source": [
    "# Drop _merge column \n",
    "\n",
    "df_sample.drop(columns = {'_merge'}, inplace = True)"
   ]
  },
  {
   "cell_type": "code",
   "execution_count": 9,
   "id": "5284f68a-fc35-4ecb-b054-ff40ec119dd3",
   "metadata": {
    "tags": []
   },
   "outputs": [
    {
     "data": {
      "text/html": [
       "<div>\n",
       "<style scoped>\n",
       "    .dataframe tbody tr th:only-of-type {\n",
       "        vertical-align: middle;\n",
       "    }\n",
       "\n",
       "    .dataframe tbody tr th {\n",
       "        vertical-align: top;\n",
       "    }\n",
       "\n",
       "    .dataframe thead th {\n",
       "        text-align: right;\n",
       "    }\n",
       "</style>\n",
       "<table border=\"1\" class=\"dataframe\">\n",
       "  <thead>\n",
       "    <tr style=\"text-align: right;\">\n",
       "      <th></th>\n",
       "      <th>ride_id</th>\n",
       "      <th>rideable_type</th>\n",
       "      <th>started_at</th>\n",
       "      <th>ended_at</th>\n",
       "      <th>start_station_name</th>\n",
       "      <th>start_station_id</th>\n",
       "      <th>end_station_name</th>\n",
       "      <th>end_station_id</th>\n",
       "      <th>start_lat</th>\n",
       "      <th>start_lng</th>\n",
       "      <th>end_lat</th>\n",
       "      <th>end_lng</th>\n",
       "      <th>member_casual</th>\n",
       "      <th>date</th>\n",
       "      <th>avgTemp</th>\n",
       "    </tr>\n",
       "  </thead>\n",
       "  <tbody>\n",
       "    <tr>\n",
       "      <th>7520565</th>\n",
       "      <td>B52B906436C6B18C</td>\n",
       "      <td>classic_bike</td>\n",
       "      <td>2022-05-21 12:28:18.451</td>\n",
       "      <td>2022-05-21 12:51:10.637</td>\n",
       "      <td>W 10 St &amp; Washington St</td>\n",
       "      <td>5847.06</td>\n",
       "      <td>West St &amp; Liberty St</td>\n",
       "      <td>5184.08</td>\n",
       "      <td>40.733424</td>\n",
       "      <td>-74.008515</td>\n",
       "      <td>40.711444</td>\n",
       "      <td>-74.014847</td>\n",
       "      <td>casual</td>\n",
       "      <td>2022-05-21</td>\n",
       "      <td>21.2</td>\n",
       "    </tr>\n",
       "    <tr>\n",
       "      <th>3601558</th>\n",
       "      <td>8C6E21D86DAB443E</td>\n",
       "      <td>classic_bike</td>\n",
       "      <td>2022-03-24 16:59:21.597</td>\n",
       "      <td>2022-03-24 17:04:16.535</td>\n",
       "      <td>W 44 St &amp; 5 Ave</td>\n",
       "      <td>6551.02</td>\n",
       "      <td>8 Ave &amp; W 49 St</td>\n",
       "      <td>6747.07</td>\n",
       "      <td>40.755003</td>\n",
       "      <td>-73.980144</td>\n",
       "      <td>40.761712</td>\n",
       "      <td>-73.986551</td>\n",
       "      <td>member</td>\n",
       "      <td>2022-03-24</td>\n",
       "      <td>5.7</td>\n",
       "    </tr>\n",
       "    <tr>\n",
       "      <th>9107125</th>\n",
       "      <td>561FCF6B42270B23</td>\n",
       "      <td>classic_bike</td>\n",
       "      <td>2022-05-30 11:31:24.470</td>\n",
       "      <td>2022-05-30 11:32:36.355</td>\n",
       "      <td>Columbia Heights &amp; Cranberry St</td>\n",
       "      <td>4829.01</td>\n",
       "      <td>Columbia Heights &amp; Cranberry St</td>\n",
       "      <td>4829.01</td>\n",
       "      <td>40.700379</td>\n",
       "      <td>-73.995481</td>\n",
       "      <td>40.700379</td>\n",
       "      <td>-73.995481</td>\n",
       "      <td>casual</td>\n",
       "      <td>2022-05-30</td>\n",
       "      <td>23.3</td>\n",
       "    </tr>\n",
       "    <tr>\n",
       "      <th>11039793</th>\n",
       "      <td>7A146533A138A08C</td>\n",
       "      <td>electric_bike</td>\n",
       "      <td>2022-06-29 17:51:13.455</td>\n",
       "      <td>2022-06-29 17:58:44.483</td>\n",
       "      <td>E 51 St &amp; Lexington Ave</td>\n",
       "      <td>6659.01</td>\n",
       "      <td>2 Ave &amp; E 29 St</td>\n",
       "      <td>6122.09</td>\n",
       "      <td>40.757148</td>\n",
       "      <td>-73.972078</td>\n",
       "      <td>40.741724</td>\n",
       "      <td>-73.978093</td>\n",
       "      <td>member</td>\n",
       "      <td>2022-06-29</td>\n",
       "      <td>23.9</td>\n",
       "    </tr>\n",
       "    <tr>\n",
       "      <th>25388724</th>\n",
       "      <td>D536AA93C950B45B</td>\n",
       "      <td>electric_bike</td>\n",
       "      <td>2022-10-17 13:31:28.764</td>\n",
       "      <td>2022-10-17 13:35:00.705</td>\n",
       "      <td>W 26 St &amp; 8 Ave</td>\n",
       "      <td>6297.02</td>\n",
       "      <td>W 22 St &amp; 10 Ave</td>\n",
       "      <td>6306.06</td>\n",
       "      <td>40.747397</td>\n",
       "      <td>-73.997393</td>\n",
       "      <td>40.746920</td>\n",
       "      <td>-74.004519</td>\n",
       "      <td>member</td>\n",
       "      <td>2022-10-17</td>\n",
       "      <td>16.6</td>\n",
       "    </tr>\n",
       "  </tbody>\n",
       "</table>\n",
       "</div>"
      ],
      "text/plain": [
       "                   ride_id  rideable_type               started_at  \\\n",
       "7520565   B52B906436C6B18C   classic_bike  2022-05-21 12:28:18.451   \n",
       "3601558   8C6E21D86DAB443E   classic_bike  2022-03-24 16:59:21.597   \n",
       "9107125   561FCF6B42270B23   classic_bike  2022-05-30 11:31:24.470   \n",
       "11039793  7A146533A138A08C  electric_bike  2022-06-29 17:51:13.455   \n",
       "25388724  D536AA93C950B45B  electric_bike  2022-10-17 13:31:28.764   \n",
       "\n",
       "                         ended_at               start_station_name  \\\n",
       "7520565   2022-05-21 12:51:10.637          W 10 St & Washington St   \n",
       "3601558   2022-03-24 17:04:16.535                  W 44 St & 5 Ave   \n",
       "9107125   2022-05-30 11:32:36.355  Columbia Heights & Cranberry St   \n",
       "11039793  2022-06-29 17:58:44.483          E 51 St & Lexington Ave   \n",
       "25388724  2022-10-17 13:35:00.705                  W 26 St & 8 Ave   \n",
       "\n",
       "         start_station_id                 end_station_name end_station_id  \\\n",
       "7520565           5847.06             West St & Liberty St        5184.08   \n",
       "3601558           6551.02                  8 Ave & W 49 St        6747.07   \n",
       "9107125           4829.01  Columbia Heights & Cranberry St        4829.01   \n",
       "11039793          6659.01                  2 Ave & E 29 St        6122.09   \n",
       "25388724          6297.02                 W 22 St & 10 Ave        6306.06   \n",
       "\n",
       "          start_lat  start_lng    end_lat    end_lng member_casual  \\\n",
       "7520565   40.733424 -74.008515  40.711444 -74.014847        casual   \n",
       "3601558   40.755003 -73.980144  40.761712 -73.986551        member   \n",
       "9107125   40.700379 -73.995481  40.700379 -73.995481        casual   \n",
       "11039793  40.757148 -73.972078  40.741724 -73.978093        member   \n",
       "25388724  40.747397 -73.997393  40.746920 -74.004519        member   \n",
       "\n",
       "                date  avgTemp  \n",
       "7520565   2022-05-21     21.2  \n",
       "3601558   2022-03-24      5.7  \n",
       "9107125   2022-05-30     23.3  \n",
       "11039793  2022-06-29     23.9  \n",
       "25388724  2022-10-17     16.6  "
      ]
     },
     "execution_count": 9,
     "metadata": {},
     "output_type": "execute_result"
    }
   ],
   "source": [
    "df_sample.head()"
   ]
  },
  {
   "cell_type": "code",
   "execution_count": 10,
   "id": "faa9d4d3-5764-4b5f-8372-c2f703b8c2b6",
   "metadata": {
    "tags": []
   },
   "outputs": [
    {
     "data": {
      "text/plain": [
       "ride_id                object\n",
       "rideable_type          object\n",
       "started_at             object\n",
       "ended_at               object\n",
       "start_station_name     object\n",
       "start_station_id       object\n",
       "end_station_name       object\n",
       "end_station_id         object\n",
       "start_lat             float64\n",
       "start_lng             float64\n",
       "end_lat               float64\n",
       "end_lng               float64\n",
       "member_casual          object\n",
       "date                   object\n",
       "avgTemp               float64\n",
       "dtype: object"
      ]
     },
     "execution_count": 10,
     "metadata": {},
     "output_type": "execute_result"
    }
   ],
   "source": [
    "df_sample.dtypes"
   ]
  },
  {
   "cell_type": "code",
   "execution_count": 11,
   "id": "da37c1ea-b1d0-4f3a-b258-144633fff71c",
   "metadata": {
    "tags": []
   },
   "outputs": [
    {
     "data": {
      "text/html": [
       "<div>\n",
       "<style scoped>\n",
       "    .dataframe tbody tr th:only-of-type {\n",
       "        vertical-align: middle;\n",
       "    }\n",
       "\n",
       "    .dataframe tbody tr th {\n",
       "        vertical-align: top;\n",
       "    }\n",
       "\n",
       "    .dataframe thead th {\n",
       "        text-align: right;\n",
       "    }\n",
       "</style>\n",
       "<table border=\"1\" class=\"dataframe\">\n",
       "  <thead>\n",
       "    <tr style=\"text-align: right;\">\n",
       "      <th></th>\n",
       "      <th>start_lat</th>\n",
       "      <th>start_lng</th>\n",
       "      <th>end_lat</th>\n",
       "      <th>end_lng</th>\n",
       "      <th>avgTemp</th>\n",
       "    </tr>\n",
       "  </thead>\n",
       "  <tbody>\n",
       "    <tr>\n",
       "      <th>count</th>\n",
       "      <td>1000000.000000</td>\n",
       "      <td>1000000.000000</td>\n",
       "      <td>998711.000000</td>\n",
       "      <td>998711.000000</td>\n",
       "      <td>999980.000000</td>\n",
       "    </tr>\n",
       "    <tr>\n",
       "      <th>mean</th>\n",
       "      <td>40.740490</td>\n",
       "      <td>-73.975309</td>\n",
       "      <td>40.740265</td>\n",
       "      <td>-73.975410</td>\n",
       "      <td>17.132698</td>\n",
       "    </tr>\n",
       "    <tr>\n",
       "      <th>std</th>\n",
       "      <td>0.038866</td>\n",
       "      <td>0.025805</td>\n",
       "      <td>0.038804</td>\n",
       "      <td>0.025804</td>\n",
       "      <td>8.556519</td>\n",
       "    </tr>\n",
       "    <tr>\n",
       "      <th>min</th>\n",
       "      <td>40.633378</td>\n",
       "      <td>-74.027472</td>\n",
       "      <td>40.580000</td>\n",
       "      <td>-74.078900</td>\n",
       "      <td>-11.700000</td>\n",
       "    </tr>\n",
       "    <tr>\n",
       "      <th>25%</th>\n",
       "      <td>40.716021</td>\n",
       "      <td>-73.993790</td>\n",
       "      <td>40.715815</td>\n",
       "      <td>-73.993836</td>\n",
       "      <td>11.400000</td>\n",
       "    </tr>\n",
       "    <tr>\n",
       "      <th>50%</th>\n",
       "      <td>40.739355</td>\n",
       "      <td>-73.981656</td>\n",
       "      <td>40.739126</td>\n",
       "      <td>-73.981693</td>\n",
       "      <td>17.900000</td>\n",
       "    </tr>\n",
       "    <tr>\n",
       "      <th>75%</th>\n",
       "      <td>40.763189</td>\n",
       "      <td>-73.959432</td>\n",
       "      <td>40.763126</td>\n",
       "      <td>-73.959586</td>\n",
       "      <td>24.200000</td>\n",
       "    </tr>\n",
       "    <tr>\n",
       "      <th>max</th>\n",
       "      <td>40.882277</td>\n",
       "      <td>-73.881450</td>\n",
       "      <td>40.980000</td>\n",
       "      <td>-73.810000</td>\n",
       "      <td>31.300000</td>\n",
       "    </tr>\n",
       "  </tbody>\n",
       "</table>\n",
       "</div>"
      ],
      "text/plain": [
       "            start_lat       start_lng        end_lat        end_lng  \\\n",
       "count  1000000.000000  1000000.000000  998711.000000  998711.000000   \n",
       "mean        40.740490      -73.975309      40.740265     -73.975410   \n",
       "std          0.038866        0.025805       0.038804       0.025804   \n",
       "min         40.633378      -74.027472      40.580000     -74.078900   \n",
       "25%         40.716021      -73.993790      40.715815     -73.993836   \n",
       "50%         40.739355      -73.981656      40.739126     -73.981693   \n",
       "75%         40.763189      -73.959432      40.763126     -73.959586   \n",
       "max         40.882277      -73.881450      40.980000     -73.810000   \n",
       "\n",
       "             avgTemp  \n",
       "count  999980.000000  \n",
       "mean       17.132698  \n",
       "std         8.556519  \n",
       "min       -11.700000  \n",
       "25%        11.400000  \n",
       "50%        17.900000  \n",
       "75%        24.200000  \n",
       "max        31.300000  "
      ]
     },
     "execution_count": 11,
     "metadata": {},
     "output_type": "execute_result"
    }
   ],
   "source": [
    "df_sample.describe()"
   ]
  },
  {
   "cell_type": "code",
   "execution_count": 12,
   "id": "b2451cb5-dbfe-42da-9466-716d2e7455d6",
   "metadata": {
    "tags": []
   },
   "outputs": [],
   "source": [
    "# Change column data type\n",
    "\n",
    "df_sample['date'] = pd.to_datetime(df['date'])"
   ]
  },
  {
   "cell_type": "code",
   "execution_count": 13,
   "id": "c529afbf-a3c8-4532-9680-40dc89319824",
   "metadata": {
    "tags": []
   },
   "outputs": [
    {
     "data": {
      "text/plain": [
       "start_lat       0\n",
       "start_lng       0\n",
       "end_lat      1289\n",
       "end_lng      1289\n",
       "avgTemp        20\n",
       "dtype: int64"
      ]
     },
     "execution_count": 13,
     "metadata": {},
     "output_type": "execute_result"
    }
   ],
   "source": [
    "# Check for NaN values\n",
    "\n",
    "df_sample[['start_lat', 'start_lng', 'end_lat', 'end_lng', 'avgTemp']].isna().sum()"
   ]
  },
  {
   "cell_type": "code",
   "execution_count": 14,
   "id": "c6294e92-2f06-4473-a465-55a8e4c4afb0",
   "metadata": {
    "jupyter": {
     "source_hidden": true
    },
    "tags": []
   },
   "outputs": [],
   "source": [
    "# Convert to float32 for memory, keep NaNs\n",
    "\n",
    "df_sample[['start_lat', 'start_lng', 'end_lat', 'end_lng', 'avgTemp']] = (\n",
    "    df_sample[['start_lat', 'start_lng', 'end_lat', 'end_lng', 'avgTemp']].astype('float32'))"
   ]
  },
  {
   "cell_type": "code",
   "execution_count": 15,
   "id": "d94dd6bc-a13e-47ef-9857-67b973617762",
   "metadata": {
    "tags": []
   },
   "outputs": [
    {
     "data": {
      "text/plain": [
       "ride_id                       object\n",
       "rideable_type                 object\n",
       "started_at                    object\n",
       "ended_at                      object\n",
       "start_station_name            object\n",
       "start_station_id              object\n",
       "end_station_name              object\n",
       "end_station_id                object\n",
       "start_lat                    float32\n",
       "start_lng                    float32\n",
       "end_lat                      float32\n",
       "end_lng                      float32\n",
       "member_casual                 object\n",
       "date                  datetime64[ns]\n",
       "avgTemp                      float32\n",
       "dtype: object"
      ]
     },
     "execution_count": 15,
     "metadata": {},
     "output_type": "execute_result"
    }
   ],
   "source": [
    "df_sample.dtypes"
   ]
  },
  {
   "cell_type": "code",
   "execution_count": 16,
   "id": "795b0fee-207a-4320-ba2f-a5709c816f79",
   "metadata": {
    "tags": []
   },
   "outputs": [
    {
     "data": {
      "text/html": [
       "<div>\n",
       "<style scoped>\n",
       "    .dataframe tbody tr th:only-of-type {\n",
       "        vertical-align: middle;\n",
       "    }\n",
       "\n",
       "    .dataframe tbody tr th {\n",
       "        vertical-align: top;\n",
       "    }\n",
       "\n",
       "    .dataframe thead th {\n",
       "        text-align: right;\n",
       "    }\n",
       "</style>\n",
       "<table border=\"1\" class=\"dataframe\">\n",
       "  <thead>\n",
       "    <tr style=\"text-align: right;\">\n",
       "      <th></th>\n",
       "      <th>ride_id</th>\n",
       "      <th>rideable_type</th>\n",
       "      <th>started_at</th>\n",
       "      <th>ended_at</th>\n",
       "      <th>start_station_name</th>\n",
       "      <th>start_station_id</th>\n",
       "      <th>end_station_name</th>\n",
       "      <th>end_station_id</th>\n",
       "      <th>start_lat</th>\n",
       "      <th>start_lng</th>\n",
       "      <th>end_lat</th>\n",
       "      <th>end_lng</th>\n",
       "      <th>member_casual</th>\n",
       "      <th>date</th>\n",
       "      <th>avgTemp</th>\n",
       "    </tr>\n",
       "  </thead>\n",
       "  <tbody>\n",
       "    <tr>\n",
       "      <th>7520565</th>\n",
       "      <td>B52B906436C6B18C</td>\n",
       "      <td>classic_bike</td>\n",
       "      <td>2022-05-21 12:28:18.451</td>\n",
       "      <td>2022-05-21 12:51:10.637</td>\n",
       "      <td>W 10 St &amp; Washington St</td>\n",
       "      <td>5847.06</td>\n",
       "      <td>West St &amp; Liberty St</td>\n",
       "      <td>5184.08</td>\n",
       "      <td>40.733425</td>\n",
       "      <td>-74.008514</td>\n",
       "      <td>40.711445</td>\n",
       "      <td>-74.014847</td>\n",
       "      <td>casual</td>\n",
       "      <td>2022-05-21</td>\n",
       "      <td>21.200001</td>\n",
       "    </tr>\n",
       "    <tr>\n",
       "      <th>3601558</th>\n",
       "      <td>8C6E21D86DAB443E</td>\n",
       "      <td>classic_bike</td>\n",
       "      <td>2022-03-24 16:59:21.597</td>\n",
       "      <td>2022-03-24 17:04:16.535</td>\n",
       "      <td>W 44 St &amp; 5 Ave</td>\n",
       "      <td>6551.02</td>\n",
       "      <td>8 Ave &amp; W 49 St</td>\n",
       "      <td>6747.07</td>\n",
       "      <td>40.755001</td>\n",
       "      <td>-73.980141</td>\n",
       "      <td>40.761711</td>\n",
       "      <td>-73.986549</td>\n",
       "      <td>member</td>\n",
       "      <td>2022-03-24</td>\n",
       "      <td>5.700000</td>\n",
       "    </tr>\n",
       "    <tr>\n",
       "      <th>9107125</th>\n",
       "      <td>561FCF6B42270B23</td>\n",
       "      <td>classic_bike</td>\n",
       "      <td>2022-05-30 11:31:24.470</td>\n",
       "      <td>2022-05-30 11:32:36.355</td>\n",
       "      <td>Columbia Heights &amp; Cranberry St</td>\n",
       "      <td>4829.01</td>\n",
       "      <td>Columbia Heights &amp; Cranberry St</td>\n",
       "      <td>4829.01</td>\n",
       "      <td>40.700378</td>\n",
       "      <td>-73.995483</td>\n",
       "      <td>40.700378</td>\n",
       "      <td>-73.995483</td>\n",
       "      <td>casual</td>\n",
       "      <td>2022-05-30</td>\n",
       "      <td>23.299999</td>\n",
       "    </tr>\n",
       "    <tr>\n",
       "      <th>11039793</th>\n",
       "      <td>7A146533A138A08C</td>\n",
       "      <td>electric_bike</td>\n",
       "      <td>2022-06-29 17:51:13.455</td>\n",
       "      <td>2022-06-29 17:58:44.483</td>\n",
       "      <td>E 51 St &amp; Lexington Ave</td>\n",
       "      <td>6659.01</td>\n",
       "      <td>2 Ave &amp; E 29 St</td>\n",
       "      <td>6122.09</td>\n",
       "      <td>40.757149</td>\n",
       "      <td>-73.972076</td>\n",
       "      <td>40.741722</td>\n",
       "      <td>-73.978096</td>\n",
       "      <td>member</td>\n",
       "      <td>2022-06-29</td>\n",
       "      <td>23.900000</td>\n",
       "    </tr>\n",
       "    <tr>\n",
       "      <th>25388724</th>\n",
       "      <td>D536AA93C950B45B</td>\n",
       "      <td>electric_bike</td>\n",
       "      <td>2022-10-17 13:31:28.764</td>\n",
       "      <td>2022-10-17 13:35:00.705</td>\n",
       "      <td>W 26 St &amp; 8 Ave</td>\n",
       "      <td>6297.02</td>\n",
       "      <td>W 22 St &amp; 10 Ave</td>\n",
       "      <td>6306.06</td>\n",
       "      <td>40.747398</td>\n",
       "      <td>-73.997391</td>\n",
       "      <td>40.746918</td>\n",
       "      <td>-74.004517</td>\n",
       "      <td>member</td>\n",
       "      <td>2022-10-17</td>\n",
       "      <td>16.600000</td>\n",
       "    </tr>\n",
       "  </tbody>\n",
       "</table>\n",
       "</div>"
      ],
      "text/plain": [
       "                   ride_id  rideable_type               started_at  \\\n",
       "7520565   B52B906436C6B18C   classic_bike  2022-05-21 12:28:18.451   \n",
       "3601558   8C6E21D86DAB443E   classic_bike  2022-03-24 16:59:21.597   \n",
       "9107125   561FCF6B42270B23   classic_bike  2022-05-30 11:31:24.470   \n",
       "11039793  7A146533A138A08C  electric_bike  2022-06-29 17:51:13.455   \n",
       "25388724  D536AA93C950B45B  electric_bike  2022-10-17 13:31:28.764   \n",
       "\n",
       "                         ended_at               start_station_name  \\\n",
       "7520565   2022-05-21 12:51:10.637          W 10 St & Washington St   \n",
       "3601558   2022-03-24 17:04:16.535                  W 44 St & 5 Ave   \n",
       "9107125   2022-05-30 11:32:36.355  Columbia Heights & Cranberry St   \n",
       "11039793  2022-06-29 17:58:44.483          E 51 St & Lexington Ave   \n",
       "25388724  2022-10-17 13:35:00.705                  W 26 St & 8 Ave   \n",
       "\n",
       "         start_station_id                 end_station_name end_station_id  \\\n",
       "7520565           5847.06             West St & Liberty St        5184.08   \n",
       "3601558           6551.02                  8 Ave & W 49 St        6747.07   \n",
       "9107125           4829.01  Columbia Heights & Cranberry St        4829.01   \n",
       "11039793          6659.01                  2 Ave & E 29 St        6122.09   \n",
       "25388724          6297.02                 W 22 St & 10 Ave        6306.06   \n",
       "\n",
       "          start_lat  start_lng    end_lat    end_lng member_casual       date  \\\n",
       "7520565   40.733425 -74.008514  40.711445 -74.014847        casual 2022-05-21   \n",
       "3601558   40.755001 -73.980141  40.761711 -73.986549        member 2022-03-24   \n",
       "9107125   40.700378 -73.995483  40.700378 -73.995483        casual 2022-05-30   \n",
       "11039793  40.757149 -73.972076  40.741722 -73.978096        member 2022-06-29   \n",
       "25388724  40.747398 -73.997391  40.746918 -74.004517        member 2022-10-17   \n",
       "\n",
       "            avgTemp  \n",
       "7520565   21.200001  \n",
       "3601558    5.700000  \n",
       "9107125   23.299999  \n",
       "11039793  23.900000  \n",
       "25388724  16.600000  "
      ]
     },
     "execution_count": 16,
     "metadata": {},
     "output_type": "execute_result"
    }
   ],
   "source": [
    "df_sample.head()"
   ]
  },
  {
   "cell_type": "markdown",
   "id": "c5220f35-2b5b-4167-8643-93130f690cd7",
   "metadata": {
    "jp-MarkdownHeadingCollapsed": true
   },
   "source": [
    "#### 3. Plotting"
   ]
  },
  {
   "cell_type": "code",
   "execution_count": 17,
   "id": "b177dce9-9518-4584-aee4-8ed8b01b2fdb",
   "metadata": {
    "tags": []
   },
   "outputs": [],
   "source": [
    "#Create df and set index\n",
    "\n",
    "df_temp = df_sample.set_index('date')"
   ]
  },
  {
   "cell_type": "code",
   "execution_count": 18,
   "id": "f0d3a443-4e73-4c95-92e4-caff6823bfb1",
   "metadata": {
    "tags": []
   },
   "outputs": [
    {
     "data": {
      "text/html": [
       "<div>\n",
       "<style scoped>\n",
       "    .dataframe tbody tr th:only-of-type {\n",
       "        vertical-align: middle;\n",
       "    }\n",
       "\n",
       "    .dataframe tbody tr th {\n",
       "        vertical-align: top;\n",
       "    }\n",
       "\n",
       "    .dataframe thead th {\n",
       "        text-align: right;\n",
       "    }\n",
       "</style>\n",
       "<table border=\"1\" class=\"dataframe\">\n",
       "  <thead>\n",
       "    <tr style=\"text-align: right;\">\n",
       "      <th></th>\n",
       "      <th>ride_id</th>\n",
       "      <th>rideable_type</th>\n",
       "      <th>started_at</th>\n",
       "      <th>ended_at</th>\n",
       "      <th>start_station_name</th>\n",
       "      <th>start_station_id</th>\n",
       "      <th>end_station_name</th>\n",
       "      <th>end_station_id</th>\n",
       "      <th>start_lat</th>\n",
       "      <th>start_lng</th>\n",
       "      <th>end_lat</th>\n",
       "      <th>end_lng</th>\n",
       "      <th>member_casual</th>\n",
       "      <th>avgTemp</th>\n",
       "    </tr>\n",
       "    <tr>\n",
       "      <th>date</th>\n",
       "      <th></th>\n",
       "      <th></th>\n",
       "      <th></th>\n",
       "      <th></th>\n",
       "      <th></th>\n",
       "      <th></th>\n",
       "      <th></th>\n",
       "      <th></th>\n",
       "      <th></th>\n",
       "      <th></th>\n",
       "      <th></th>\n",
       "      <th></th>\n",
       "      <th></th>\n",
       "      <th></th>\n",
       "    </tr>\n",
       "  </thead>\n",
       "  <tbody>\n",
       "    <tr>\n",
       "      <th>2022-05-21</th>\n",
       "      <td>B52B906436C6B18C</td>\n",
       "      <td>classic_bike</td>\n",
       "      <td>2022-05-21 12:28:18.451</td>\n",
       "      <td>2022-05-21 12:51:10.637</td>\n",
       "      <td>W 10 St &amp; Washington St</td>\n",
       "      <td>5847.06</td>\n",
       "      <td>West St &amp; Liberty St</td>\n",
       "      <td>5184.08</td>\n",
       "      <td>40.733425</td>\n",
       "      <td>-74.008514</td>\n",
       "      <td>40.711445</td>\n",
       "      <td>-74.014847</td>\n",
       "      <td>casual</td>\n",
       "      <td>21.200001</td>\n",
       "    </tr>\n",
       "    <tr>\n",
       "      <th>2022-03-24</th>\n",
       "      <td>8C6E21D86DAB443E</td>\n",
       "      <td>classic_bike</td>\n",
       "      <td>2022-03-24 16:59:21.597</td>\n",
       "      <td>2022-03-24 17:04:16.535</td>\n",
       "      <td>W 44 St &amp; 5 Ave</td>\n",
       "      <td>6551.02</td>\n",
       "      <td>8 Ave &amp; W 49 St</td>\n",
       "      <td>6747.07</td>\n",
       "      <td>40.755001</td>\n",
       "      <td>-73.980141</td>\n",
       "      <td>40.761711</td>\n",
       "      <td>-73.986549</td>\n",
       "      <td>member</td>\n",
       "      <td>5.700000</td>\n",
       "    </tr>\n",
       "    <tr>\n",
       "      <th>2022-05-30</th>\n",
       "      <td>561FCF6B42270B23</td>\n",
       "      <td>classic_bike</td>\n",
       "      <td>2022-05-30 11:31:24.470</td>\n",
       "      <td>2022-05-30 11:32:36.355</td>\n",
       "      <td>Columbia Heights &amp; Cranberry St</td>\n",
       "      <td>4829.01</td>\n",
       "      <td>Columbia Heights &amp; Cranberry St</td>\n",
       "      <td>4829.01</td>\n",
       "      <td>40.700378</td>\n",
       "      <td>-73.995483</td>\n",
       "      <td>40.700378</td>\n",
       "      <td>-73.995483</td>\n",
       "      <td>casual</td>\n",
       "      <td>23.299999</td>\n",
       "    </tr>\n",
       "    <tr>\n",
       "      <th>2022-06-29</th>\n",
       "      <td>7A146533A138A08C</td>\n",
       "      <td>electric_bike</td>\n",
       "      <td>2022-06-29 17:51:13.455</td>\n",
       "      <td>2022-06-29 17:58:44.483</td>\n",
       "      <td>E 51 St &amp; Lexington Ave</td>\n",
       "      <td>6659.01</td>\n",
       "      <td>2 Ave &amp; E 29 St</td>\n",
       "      <td>6122.09</td>\n",
       "      <td>40.757149</td>\n",
       "      <td>-73.972076</td>\n",
       "      <td>40.741722</td>\n",
       "      <td>-73.978096</td>\n",
       "      <td>member</td>\n",
       "      <td>23.900000</td>\n",
       "    </tr>\n",
       "    <tr>\n",
       "      <th>2022-10-17</th>\n",
       "      <td>D536AA93C950B45B</td>\n",
       "      <td>electric_bike</td>\n",
       "      <td>2022-10-17 13:31:28.764</td>\n",
       "      <td>2022-10-17 13:35:00.705</td>\n",
       "      <td>W 26 St &amp; 8 Ave</td>\n",
       "      <td>6297.02</td>\n",
       "      <td>W 22 St &amp; 10 Ave</td>\n",
       "      <td>6306.06</td>\n",
       "      <td>40.747398</td>\n",
       "      <td>-73.997391</td>\n",
       "      <td>40.746918</td>\n",
       "      <td>-74.004517</td>\n",
       "      <td>member</td>\n",
       "      <td>16.600000</td>\n",
       "    </tr>\n",
       "  </tbody>\n",
       "</table>\n",
       "</div>"
      ],
      "text/plain": [
       "                     ride_id  rideable_type               started_at  \\\n",
       "date                                                                   \n",
       "2022-05-21  B52B906436C6B18C   classic_bike  2022-05-21 12:28:18.451   \n",
       "2022-03-24  8C6E21D86DAB443E   classic_bike  2022-03-24 16:59:21.597   \n",
       "2022-05-30  561FCF6B42270B23   classic_bike  2022-05-30 11:31:24.470   \n",
       "2022-06-29  7A146533A138A08C  electric_bike  2022-06-29 17:51:13.455   \n",
       "2022-10-17  D536AA93C950B45B  electric_bike  2022-10-17 13:31:28.764   \n",
       "\n",
       "                           ended_at               start_station_name  \\\n",
       "date                                                                   \n",
       "2022-05-21  2022-05-21 12:51:10.637          W 10 St & Washington St   \n",
       "2022-03-24  2022-03-24 17:04:16.535                  W 44 St & 5 Ave   \n",
       "2022-05-30  2022-05-30 11:32:36.355  Columbia Heights & Cranberry St   \n",
       "2022-06-29  2022-06-29 17:58:44.483          E 51 St & Lexington Ave   \n",
       "2022-10-17  2022-10-17 13:35:00.705                  W 26 St & 8 Ave   \n",
       "\n",
       "           start_station_id                 end_station_name end_station_id  \\\n",
       "date                                                                          \n",
       "2022-05-21          5847.06             West St & Liberty St        5184.08   \n",
       "2022-03-24          6551.02                  8 Ave & W 49 St        6747.07   \n",
       "2022-05-30          4829.01  Columbia Heights & Cranberry St        4829.01   \n",
       "2022-06-29          6659.01                  2 Ave & E 29 St        6122.09   \n",
       "2022-10-17          6297.02                 W 22 St & 10 Ave        6306.06   \n",
       "\n",
       "            start_lat  start_lng    end_lat    end_lng member_casual  \\\n",
       "date                                                                   \n",
       "2022-05-21  40.733425 -74.008514  40.711445 -74.014847        casual   \n",
       "2022-03-24  40.755001 -73.980141  40.761711 -73.986549        member   \n",
       "2022-05-30  40.700378 -73.995483  40.700378 -73.995483        casual   \n",
       "2022-06-29  40.757149 -73.972076  40.741722 -73.978096        member   \n",
       "2022-10-17  40.747398 -73.997391  40.746918 -74.004517        member   \n",
       "\n",
       "              avgTemp  \n",
       "date                   \n",
       "2022-05-21  21.200001  \n",
       "2022-03-24   5.700000  \n",
       "2022-05-30  23.299999  \n",
       "2022-06-29  23.900000  \n",
       "2022-10-17  16.600000  "
      ]
     },
     "execution_count": 18,
     "metadata": {},
     "output_type": "execute_result"
    }
   ],
   "source": [
    "df_temp.head()"
   ]
  },
  {
   "cell_type": "code",
   "execution_count": 19,
   "id": "e4410626-890c-4850-b23e-dc7e09e861e5",
   "metadata": {
    "tags": []
   },
   "outputs": [
    {
     "data": {
      "text/html": [
       "<div>\n",
       "<style scoped>\n",
       "    .dataframe tbody tr th:only-of-type {\n",
       "        vertical-align: middle;\n",
       "    }\n",
       "\n",
       "    .dataframe tbody tr th {\n",
       "        vertical-align: top;\n",
       "    }\n",
       "\n",
       "    .dataframe thead th {\n",
       "        text-align: right;\n",
       "    }\n",
       "</style>\n",
       "<table border=\"1\" class=\"dataframe\">\n",
       "  <thead>\n",
       "    <tr style=\"text-align: right;\">\n",
       "      <th></th>\n",
       "      <th>start_lat</th>\n",
       "      <th>start_lng</th>\n",
       "      <th>end_lat</th>\n",
       "      <th>end_lng</th>\n",
       "      <th>avgTemp</th>\n",
       "    </tr>\n",
       "  </thead>\n",
       "  <tbody>\n",
       "    <tr>\n",
       "      <th>count</th>\n",
       "      <td>1000000.000000</td>\n",
       "      <td>1000000.000000</td>\n",
       "      <td>998711.000000</td>\n",
       "      <td>998711.000000</td>\n",
       "      <td>999980.000000</td>\n",
       "    </tr>\n",
       "    <tr>\n",
       "      <th>mean</th>\n",
       "      <td>40.740486</td>\n",
       "      <td>-73.975327</td>\n",
       "      <td>40.740253</td>\n",
       "      <td>-73.975395</td>\n",
       "      <td>17.132698</td>\n",
       "    </tr>\n",
       "    <tr>\n",
       "      <th>std</th>\n",
       "      <td>0.038866</td>\n",
       "      <td>0.025805</td>\n",
       "      <td>0.038804</td>\n",
       "      <td>0.025804</td>\n",
       "      <td>8.556520</td>\n",
       "    </tr>\n",
       "    <tr>\n",
       "      <th>min</th>\n",
       "      <td>40.633377</td>\n",
       "      <td>-74.027473</td>\n",
       "      <td>40.580002</td>\n",
       "      <td>-74.078903</td>\n",
       "      <td>-11.700000</td>\n",
       "    </tr>\n",
       "    <tr>\n",
       "      <th>25%</th>\n",
       "      <td>40.716022</td>\n",
       "      <td>-73.993790</td>\n",
       "      <td>40.715816</td>\n",
       "      <td>-73.993835</td>\n",
       "      <td>11.400000</td>\n",
       "    </tr>\n",
       "    <tr>\n",
       "      <th>50%</th>\n",
       "      <td>40.739357</td>\n",
       "      <td>-73.981659</td>\n",
       "      <td>40.739124</td>\n",
       "      <td>-73.981697</td>\n",
       "      <td>17.900000</td>\n",
       "    </tr>\n",
       "    <tr>\n",
       "      <th>75%</th>\n",
       "      <td>40.763187</td>\n",
       "      <td>-73.959435</td>\n",
       "      <td>40.763126</td>\n",
       "      <td>-73.959587</td>\n",
       "      <td>24.200001</td>\n",
       "    </tr>\n",
       "    <tr>\n",
       "      <th>max</th>\n",
       "      <td>40.882278</td>\n",
       "      <td>-73.881447</td>\n",
       "      <td>40.980000</td>\n",
       "      <td>-73.809998</td>\n",
       "      <td>31.299999</td>\n",
       "    </tr>\n",
       "  </tbody>\n",
       "</table>\n",
       "</div>"
      ],
      "text/plain": [
       "            start_lat       start_lng        end_lat        end_lng  \\\n",
       "count  1000000.000000  1000000.000000  998711.000000  998711.000000   \n",
       "mean        40.740486      -73.975327      40.740253     -73.975395   \n",
       "std          0.038866        0.025805       0.038804       0.025804   \n",
       "min         40.633377      -74.027473      40.580002     -74.078903   \n",
       "25%         40.716022      -73.993790      40.715816     -73.993835   \n",
       "50%         40.739357      -73.981659      40.739124     -73.981697   \n",
       "75%         40.763187      -73.959435      40.763126     -73.959587   \n",
       "max         40.882278      -73.881447      40.980000     -73.809998   \n",
       "\n",
       "             avgTemp  \n",
       "count  999980.000000  \n",
       "mean       17.132698  \n",
       "std         8.556520  \n",
       "min       -11.700000  \n",
       "25%        11.400000  \n",
       "50%        17.900000  \n",
       "75%        24.200001  \n",
       "max        31.299999  "
      ]
     },
     "execution_count": 19,
     "metadata": {},
     "output_type": "execute_result"
    }
   ],
   "source": [
    "df_temp.describe()"
   ]
  },
  {
   "cell_type": "code",
   "execution_count": 20,
   "id": "085d25df-67a1-4b15-8225-339e26dab1fa",
   "metadata": {
    "scrolled": true,
    "tags": []
   },
   "outputs": [
    {
     "data": {
      "text/plain": [
       "<Axes: title={'center': 'Temperatures Daily 2022'}, xlabel='date'>"
      ]
     },
     "execution_count": 20,
     "metadata": {},
     "output_type": "execute_result"
    },
    {
     "data": {
      "image/png": "[encoded data removed]",
      "text/plain": [
       "<Figure size 1000x400 with 1 Axes>"
      ]
     },
     "metadata": {},
     "output_type": "display_data"
    }
   ],
   "source": [
    "# downsample data by monthly average to avoid overflow error\n",
    "\n",
    "# Plot avgTemp with pandas\n",
    "\n",
    "df_temp.resample('ME').mean(numeric_only=True)['avgTemp'].plot(figsize=(10,4), title='Temperatures Daily 2022')"
   ]
  },
  {
   "cell_type": "markdown",
   "id": "d9520466-e4c0-4c35-9f2b-7996548ac04b",
   "metadata": {
    "jp-MarkdownHeadingCollapsed": true,
    "tags": []
   },
   "source": [
    "#### 4. Aggregate Trips"
   ]
  },
  {
   "cell_type": "code",
   "execution_count": 21,
   "id": "cc58d6a1-3029-468f-8c4c-0db6bc822be8",
   "metadata": {},
   "outputs": [],
   "source": [
    "# Groupby the count of the trips \n",
    "\n",
    "df_group = pd.DataFrame(df_sample.groupby(['date'])['ride_id'].count()).reset_index()"
   ]
  },
  {
   "cell_type": "code",
   "execution_count": 22,
   "id": "c6c46782-e063-4e5d-bf49-1745cde8ace6",
   "metadata": {},
   "outputs": [
    {
     "data": {
      "text/html": [
       "<div>\n",
       "<style scoped>\n",
       "    .dataframe tbody tr th:only-of-type {\n",
       "        vertical-align: middle;\n",
       "    }\n",
       "\n",
       "    .dataframe tbody tr th {\n",
       "        vertical-align: top;\n",
       "    }\n",
       "\n",
       "    .dataframe thead th {\n",
       "        text-align: right;\n",
       "    }\n",
       "</style>\n",
       "<table border=\"1\" class=\"dataframe\">\n",
       "  <thead>\n",
       "    <tr style=\"text-align: right;\">\n",
       "      <th></th>\n",
       "      <th>date</th>\n",
       "      <th>ride_id</th>\n",
       "    </tr>\n",
       "  </thead>\n",
       "  <tbody>\n",
       "    <tr>\n",
       "      <th>0</th>\n",
       "      <td>2021-12-28</td>\n",
       "      <td>1</td>\n",
       "    </tr>\n",
       "    <tr>\n",
       "      <th>1</th>\n",
       "      <td>2021-12-31</td>\n",
       "      <td>19</td>\n",
       "    </tr>\n",
       "    <tr>\n",
       "      <th>2</th>\n",
       "      <td>2022-01-01</td>\n",
       "      <td>673</td>\n",
       "    </tr>\n",
       "    <tr>\n",
       "      <th>3</th>\n",
       "      <td>2022-01-02</td>\n",
       "      <td>1484</td>\n",
       "    </tr>\n",
       "    <tr>\n",
       "      <th>4</th>\n",
       "      <td>2022-01-03</td>\n",
       "      <td>1115</td>\n",
       "    </tr>\n",
       "  </tbody>\n",
       "</table>\n",
       "</div>"
      ],
      "text/plain": [
       "        date  ride_id\n",
       "0 2021-12-28        1\n",
       "1 2021-12-31       19\n",
       "2 2022-01-01      673\n",
       "3 2022-01-02     1484\n",
       "4 2022-01-03     1115"
      ]
     },
     "execution_count": 22,
     "metadata": {},
     "output_type": "execute_result"
    }
   ],
   "source": [
    "df_group.head()"
   ]
  },
  {
   "cell_type": "code",
   "execution_count": 23,
   "id": "4b0985a4-abb0-4e41-90fe-da0282ff8beb",
   "metadata": {},
   "outputs": [
    {
     "data": {
      "text/plain": [
       "(367, 2)"
      ]
     },
     "execution_count": 23,
     "metadata": {},
     "output_type": "execute_result"
    }
   ],
   "source": [
    "df_group.shape"
   ]
  },
  {
   "cell_type": "code",
   "execution_count": 24,
   "id": "f51b8b63-8474-46ec-8a6f-8823ee30234e",
   "metadata": {},
   "outputs": [],
   "source": [
    "# Adjust data to plot bike trips data\n",
    "\n",
    "# Get rides per day\n",
    "df_group.rename(columns = {'ride_id':'rides_daily'}, inplace = True)\n",
    "# Merge back to main df\n",
    "df_sample = df_sample.merge(df_group, on = \"date\", how = 'outer', indicator = True)"
   ]
  },
  {
   "cell_type": "code",
   "execution_count": 25,
   "id": "8e9ac209-3914-4f33-8a8c-3b89fcd8f169",
   "metadata": {},
   "outputs": [
    {
     "name": "stdout",
     "output_type": "stream",
     "text": [
      "_merge\n",
      "both          1000000\n",
      "left_only           0\n",
      "right_only          0\n",
      "Name: count, dtype: int64\n",
      "Shape of January 1st is (0, 17)\n",
      "Shape of January 2nd is (0, 17)\n",
      "Index(['ride_id', 'rideable_type', 'started_at', 'ended_at',\n",
      "       'start_station_name', 'start_station_id', 'end_station_name',\n",
      "       'end_station_id', 'start_lat', 'start_lng', 'end_lat', 'end_lng',\n",
      "       'member_casual', 'avgTemp', 'rides_daily', '_merge'],\n",
      "      dtype='object')\n"
     ]
    }
   ],
   "source": [
    "# Check df changes \n",
    "\n",
    "print(df_sample['_merge'].value_counts(dropna = False))\n",
    "print(\"Shape of January 1st is\", df_sample[df_sample['date'] == '2018-01-01'].shape) # Check \n",
    "print(\"Shape of January 2nd is\", df_sample[df_sample['date'] == '2018-01-02'].shape) # Second check \n",
    "\n",
    "df_temp = df_sample.set_index('date')\n",
    "\n",
    "print(df_temp.columns)"
   ]
  },
  {
   "cell_type": "code",
   "execution_count": 26,
   "id": "df824a02-2163-45ce-b84f-b72684c06d21",
   "metadata": {},
   "outputs": [
    {
     "data": {
      "text/html": [
       "<div>\n",
       "<style scoped>\n",
       "    .dataframe tbody tr th:only-of-type {\n",
       "        vertical-align: middle;\n",
       "    }\n",
       "\n",
       "    .dataframe tbody tr th {\n",
       "        vertical-align: top;\n",
       "    }\n",
       "\n",
       "    .dataframe thead th {\n",
       "        text-align: right;\n",
       "    }\n",
       "</style>\n",
       "<table border=\"1\" class=\"dataframe\">\n",
       "  <thead>\n",
       "    <tr style=\"text-align: right;\">\n",
       "      <th></th>\n",
       "      <th>ride_id</th>\n",
       "      <th>rideable_type</th>\n",
       "      <th>started_at</th>\n",
       "      <th>ended_at</th>\n",
       "      <th>start_station_name</th>\n",
       "      <th>start_station_id</th>\n",
       "      <th>end_station_name</th>\n",
       "      <th>end_station_id</th>\n",
       "      <th>start_lat</th>\n",
       "      <th>start_lng</th>\n",
       "      <th>end_lat</th>\n",
       "      <th>end_lng</th>\n",
       "      <th>member_casual</th>\n",
       "      <th>avgTemp</th>\n",
       "      <th>rides_daily</th>\n",
       "      <th>_merge</th>\n",
       "    </tr>\n",
       "    <tr>\n",
       "      <th>date</th>\n",
       "      <th></th>\n",
       "      <th></th>\n",
       "      <th></th>\n",
       "      <th></th>\n",
       "      <th></th>\n",
       "      <th></th>\n",
       "      <th></th>\n",
       "      <th></th>\n",
       "      <th></th>\n",
       "      <th></th>\n",
       "      <th></th>\n",
       "      <th></th>\n",
       "      <th></th>\n",
       "      <th></th>\n",
       "      <th></th>\n",
       "      <th></th>\n",
       "    </tr>\n",
       "  </thead>\n",
       "  <tbody>\n",
       "    <tr>\n",
       "      <th>2021-12-28</th>\n",
       "      <td>DA14E2F38543A9FF</td>\n",
       "      <td>classic_bike</td>\n",
       "      <td>2021-12-28 12:17:45.393</td>\n",
       "      <td>2022-01-01 11:07:06.792</td>\n",
       "      <td>Southpoint Park</td>\n",
       "      <td>6566.01</td>\n",
       "      <td>NaN</td>\n",
       "      <td>NaN</td>\n",
       "      <td>40.753700</td>\n",
       "      <td>-73.958649</td>\n",
       "      <td>NaN</td>\n",
       "      <td>NaN</td>\n",
       "      <td>casual</td>\n",
       "      <td>NaN</td>\n",
       "      <td>1</td>\n",
       "      <td>both</td>\n",
       "    </tr>\n",
       "    <tr>\n",
       "      <th>2021-12-31</th>\n",
       "      <td>23643AF38D9D91ED</td>\n",
       "      <td>classic_bike</td>\n",
       "      <td>2021-12-31 09:49:35.149</td>\n",
       "      <td>2022-01-01 10:49:15.878</td>\n",
       "      <td>W 47 St &amp; 10 Ave</td>\n",
       "      <td>6824.07</td>\n",
       "      <td>NaN</td>\n",
       "      <td>NaN</td>\n",
       "      <td>40.762699</td>\n",
       "      <td>-73.993011</td>\n",
       "      <td>NaN</td>\n",
       "      <td>NaN</td>\n",
       "      <td>casual</td>\n",
       "      <td>NaN</td>\n",
       "      <td>19</td>\n",
       "      <td>both</td>\n",
       "    </tr>\n",
       "    <tr>\n",
       "      <th>2021-12-31</th>\n",
       "      <td>53B738C6594CC191</td>\n",
       "      <td>electric_bike</td>\n",
       "      <td>2021-12-31 23:51:45.918</td>\n",
       "      <td>2022-01-01 00:20:15.060</td>\n",
       "      <td>Broadway &amp; W 61 St</td>\n",
       "      <td>7014.12</td>\n",
       "      <td>E 88 St &amp; 1 Ave</td>\n",
       "      <td>7235.13</td>\n",
       "      <td>40.770031</td>\n",
       "      <td>-73.981972</td>\n",
       "      <td>40.778301</td>\n",
       "      <td>-73.948814</td>\n",
       "      <td>casual</td>\n",
       "      <td>NaN</td>\n",
       "      <td>19</td>\n",
       "      <td>both</td>\n",
       "    </tr>\n",
       "    <tr>\n",
       "      <th>2021-12-31</th>\n",
       "      <td>2065757132FE97C0</td>\n",
       "      <td>classic_bike</td>\n",
       "      <td>2021-12-31 23:58:39.100</td>\n",
       "      <td>2022-01-01 00:01:02.766</td>\n",
       "      <td>W 47 St &amp; 10 Ave</td>\n",
       "      <td>6824.07</td>\n",
       "      <td>W 49 St &amp; 8 Ave</td>\n",
       "      <td>6747.06</td>\n",
       "      <td>40.762699</td>\n",
       "      <td>-73.993011</td>\n",
       "      <td>40.762272</td>\n",
       "      <td>-73.987885</td>\n",
       "      <td>casual</td>\n",
       "      <td>NaN</td>\n",
       "      <td>19</td>\n",
       "      <td>both</td>\n",
       "    </tr>\n",
       "    <tr>\n",
       "      <th>2021-12-31</th>\n",
       "      <td>FD0283A8C2A6FAEF</td>\n",
       "      <td>electric_bike</td>\n",
       "      <td>2021-12-31 23:51:27.961</td>\n",
       "      <td>2022-01-01 00:16:04.623</td>\n",
       "      <td>Wythe Ave &amp; Metropolitan Ave</td>\n",
       "      <td>5348.02</td>\n",
       "      <td>DeKalb Ave &amp; Franklin Ave</td>\n",
       "      <td>4528.01</td>\n",
       "      <td>40.716888</td>\n",
       "      <td>-73.963196</td>\n",
       "      <td>40.690647</td>\n",
       "      <td>-73.957458</td>\n",
       "      <td>member</td>\n",
       "      <td>NaN</td>\n",
       "      <td>19</td>\n",
       "      <td>both</td>\n",
       "    </tr>\n",
       "  </tbody>\n",
       "</table>\n",
       "</div>"
      ],
      "text/plain": [
       "                     ride_id  rideable_type               started_at  \\\n",
       "date                                                                   \n",
       "2021-12-28  DA14E2F38543A9FF   classic_bike  2021-12-28 12:17:45.393   \n",
       "2021-12-31  23643AF38D9D91ED   classic_bike  2021-12-31 09:49:35.149   \n",
       "2021-12-31  53B738C6594CC191  electric_bike  2021-12-31 23:51:45.918   \n",
       "2021-12-31  2065757132FE97C0   classic_bike  2021-12-31 23:58:39.100   \n",
       "2021-12-31  FD0283A8C2A6FAEF  electric_bike  2021-12-31 23:51:27.961   \n",
       "\n",
       "                           ended_at            start_station_name  \\\n",
       "date                                                                \n",
       "2021-12-28  2022-01-01 11:07:06.792               Southpoint Park   \n",
       "2021-12-31  2022-01-01 10:49:15.878              W 47 St & 10 Ave   \n",
       "2021-12-31  2022-01-01 00:20:15.060            Broadway & W 61 St   \n",
       "2021-12-31  2022-01-01 00:01:02.766              W 47 St & 10 Ave   \n",
       "2021-12-31  2022-01-01 00:16:04.623  Wythe Ave & Metropolitan Ave   \n",
       "\n",
       "           start_station_id           end_station_name end_station_id  \\\n",
       "date                                                                    \n",
       "2021-12-28          6566.01                        NaN            NaN   \n",
       "2021-12-31          6824.07                        NaN            NaN   \n",
       "2021-12-31          7014.12            E 88 St & 1 Ave        7235.13   \n",
       "2021-12-31          6824.07            W 49 St & 8 Ave        6747.06   \n",
       "2021-12-31          5348.02  DeKalb Ave & Franklin Ave        4528.01   \n",
       "\n",
       "            start_lat  start_lng    end_lat    end_lng member_casual  avgTemp  \\\n",
       "date                                                                            \n",
       "2021-12-28  40.753700 -73.958649        NaN        NaN        casual      NaN   \n",
       "2021-12-31  40.762699 -73.993011        NaN        NaN        casual      NaN   \n",
       "2021-12-31  40.770031 -73.981972  40.778301 -73.948814        casual      NaN   \n",
       "2021-12-31  40.762699 -73.993011  40.762272 -73.987885        casual      NaN   \n",
       "2021-12-31  40.716888 -73.963196  40.690647 -73.957458        member      NaN   \n",
       "\n",
       "            rides_daily _merge  \n",
       "date                            \n",
       "2021-12-28            1   both  \n",
       "2021-12-31           19   both  \n",
       "2021-12-31           19   both  \n",
       "2021-12-31           19   both  \n",
       "2021-12-31           19   both  "
      ]
     },
     "execution_count": 26,
     "metadata": {},
     "output_type": "execute_result"
    }
   ],
   "source": [
    "df_temp.head()"
   ]
  },
  {
   "cell_type": "markdown",
   "id": "c41635ac-7be3-4fec-b25f-16c1ab5d0086",
   "metadata": {
    "jp-MarkdownHeadingCollapsed": true
   },
   "source": [
    "#### 5. Plotting trips and temperature"
   ]
  },
  {
   "cell_type": "code",
   "execution_count": 27,
   "id": "81123482-03cb-4d5b-82a5-8495268730d2",
   "metadata": {},
   "outputs": [
    {
     "data": {
      "image/png": "[encoded data removed]",
      "text/plain": [
       "<Figure size 1000x500 with 2 Axes>"
      ]
     },
     "metadata": {},
     "output_type": "display_data"
    }
   ],
   "source": [
    "# Plot both temp and trips\n",
    "\n",
    "fig,ax = plt.subplots(figsize=(10, 5))\n",
    "\n",
    "# Make a plot of the bike rides\n",
    "ax.plot(df_temp['rides_daily'],color = \"navy\")\n",
    "ax.set_xlabel(\"Year 2022\", fontsize = 14) # set x-axis label\n",
    "ax.set_ylabel(\"Bike Rides Daily\",color = \"navy\", fontsize = 14) # set y-axis label\n",
    "\n",
    "# Initialize a twin axis for\n",
    "ax2 = ax.twinx()\n",
    "\n",
    "# Make a plot with the temperatures on the y-axis using second axis object\n",
    "ax2.plot(df_temp['avgTemp'], color = \"red\")\n",
    "ax2.set_ylabel(\"Average Temperatures\", color = \"red\",fontsize=14)\n",
    "plt.title('Temperature and Trips in 2022', fontsize = 18)\n",
    "plt.show()"
   ]
  },
  {
   "cell_type": "markdown",
   "id": "69a275ab-e22a-4204-b285-625f7b2f396a",
   "metadata": {},
   "source": [
    "##### Observations:\n",
    "\n",
    "To visualize bike rides and average temperatures, a dual axis was used.\n",
    "For the dual axis, a twin axis was added with the command ax.twinx() on newly defined axis (ax2) for avgTemp.\n",
    "This command paired ax2 with ax, used in the the first command for plotting rides_daily.\n",
    "\n",
    "Now that they are paired, matplotlib creates to plots within one graph. This makes it easier to observe relationships between trips and temperatures."
   ]
  },
  {
   "cell_type": "markdown",
   "id": "482bba78-cffb-44cd-aa56-0cc8d1dcab78",
   "metadata": {
    "tags": []
   },
   "source": [
    "#### 6. Exports"
   ]
  },
  {
   "cell_type": "code",
   "execution_count": 28,
   "id": "2dc3e9d5-8da2-45a2-ab52-c18e32ed31ef",
   "metadata": {
    "tags": []
   },
   "outputs": [],
   "source": [
    "# save final plot as a file\n",
    "\n",
    "fig.savefig('trips_temperatures_dual_line.jpg',\n",
    "            format='jpeg',\n",
    "            dpi=100,\n",
    "            bbox_inches='tight')"
   ]
  },
  {
   "cell_type": "code",
   "execution_count": 29,
   "id": "db9c5e0f-754c-4666-a9bb-8d351f5d71a0",
   "metadata": {},
   "outputs": [],
   "source": [
    "# export data frames\n",
    "\n",
    "df_sample.to_csv('NY_bikedata_sample.csv', index=False)\n",
    "df_temp.to_csv('NY_bikedata_temp.csv', index=False)\n",
    "df_group.to_csv('NY_bikedata_group.csv', index=False)"
   ]
  }
 ],
 "metadata": {
  "kernelspec": {
   "display_name": "Python [conda env:venv_bikes]",
   "language": "python",
   "name": "conda-env-venv_bikes-py"
  },
  "language_info": {
   "codemirror_mode": {
    "name": "ipython",
    "version": 3
   },
   "file_extension": ".py",
   "mimetype": "text/x-python",
   "name": "python",
   "nbconvert_exporter": "python",
   "pygments_lexer": "ipython3",
   "version": "3.11.11"
  }
 },
 "nbformat": 4,
 "nbformat_minor": 5
}
