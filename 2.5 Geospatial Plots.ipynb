{
 "cells": [
  {
   "cell_type": "code",
   "execution_count": 1,
   "id": "a1a76c19-a842-4914-bb22-3f38a93105d6",
   "metadata": {
    "tags": []
   },
   "outputs": [],
   "source": [
    "# Import libraries\n",
    "\n",
    "import pandas as pd\n",
    "import os\n",
    "from keplergl import KeplerGl\n",
    "from pyproj import CRS\n",
    "import numpy as np\n",
    "from matplotlib import pyplot as plt"
   ]
  },
  {
   "cell_type": "code",
   "execution_count": 25,
   "id": "d52988b1-0c47-488f-b6c6-c32074a312c8",
   "metadata": {
    "collapsed": true,
    "jupyter": {
     "outputs_hidden": true
    },
    "tags": []
   },
   "outputs": [
    {
     "name": "stderr",
     "output_type": "stream",
     "text": [
      "C:\\Users\\walls\\AppData\\Local\\Temp\\ipykernel_6636\\30057621.py:3: DtypeWarning: Columns (5,7) have mixed types. Specify dtype option on import or set low_memory=False.\n",
      "  df = pd.read_csv('NY_bikedata_sample.csv', index_col = 0)\n"
     ]
    }
   ],
   "source": [
    "# Import df\n",
    "\n",
    "df = pd.read_csv('NY_bikedata_sample.csv', index_col = 0)"
   ]
  },
  {
   "cell_type": "code",
   "execution_count": 3,
   "id": "50b7ca5f-846c-4ee4-ae67-e344e759b02b",
   "metadata": {
    "tags": []
   },
   "outputs": [
    {
     "data": {
      "text/html": [
       "<div>\n",
       "<style scoped>\n",
       "    .dataframe tbody tr th:only-of-type {\n",
       "        vertical-align: middle;\n",
       "    }\n",
       "\n",
       "    .dataframe tbody tr th {\n",
       "        vertical-align: top;\n",
       "    }\n",
       "\n",
       "    .dataframe thead th {\n",
       "        text-align: right;\n",
       "    }\n",
       "</style>\n",
       "<table border=\"1\" class=\"dataframe\">\n",
       "  <thead>\n",
       "    <tr style=\"text-align: right;\">\n",
       "      <th></th>\n",
       "      <th>rideable_type</th>\n",
       "      <th>started_at</th>\n",
       "      <th>ended_at</th>\n",
       "      <th>start_station_name</th>\n",
       "      <th>start_station_id</th>\n",
       "      <th>end_station_name</th>\n",
       "      <th>end_station_id</th>\n",
       "      <th>start_lat</th>\n",
       "      <th>start_lng</th>\n",
       "      <th>end_lat</th>\n",
       "      <th>end_lng</th>\n",
       "      <th>member_casual</th>\n",
       "      <th>date</th>\n",
       "      <th>avgTemp</th>\n",
       "      <th>rides_daily</th>\n",
       "      <th>_merge</th>\n",
       "    </tr>\n",
       "    <tr>\n",
       "      <th>ride_id</th>\n",
       "      <th></th>\n",
       "      <th></th>\n",
       "      <th></th>\n",
       "      <th></th>\n",
       "      <th></th>\n",
       "      <th></th>\n",
       "      <th></th>\n",
       "      <th></th>\n",
       "      <th></th>\n",
       "      <th></th>\n",
       "      <th></th>\n",
       "      <th></th>\n",
       "      <th></th>\n",
       "      <th></th>\n",
       "      <th></th>\n",
       "      <th></th>\n",
       "    </tr>\n",
       "  </thead>\n",
       "  <tbody>\n",
       "    <tr>\n",
       "      <th>DA14E2F38543A9FF</th>\n",
       "      <td>classic_bike</td>\n",
       "      <td>2021-12-28 12:17:45.393</td>\n",
       "      <td>2022-01-01 11:07:06.792</td>\n",
       "      <td>Southpoint Park</td>\n",
       "      <td>6566.01</td>\n",
       "      <td>NaN</td>\n",
       "      <td>NaN</td>\n",
       "      <td>40.75370</td>\n",
       "      <td>-73.958650</td>\n",
       "      <td>NaN</td>\n",
       "      <td>NaN</td>\n",
       "      <td>casual</td>\n",
       "      <td>2021-12-28</td>\n",
       "      <td>NaN</td>\n",
       "      <td>1</td>\n",
       "      <td>both</td>\n",
       "    </tr>\n",
       "    <tr>\n",
       "      <th>23643AF38D9D91ED</th>\n",
       "      <td>classic_bike</td>\n",
       "      <td>2021-12-31 09:49:35.149</td>\n",
       "      <td>2022-01-01 10:49:15.878</td>\n",
       "      <td>W 47 St &amp; 10 Ave</td>\n",
       "      <td>6824.07</td>\n",
       "      <td>NaN</td>\n",
       "      <td>NaN</td>\n",
       "      <td>40.76270</td>\n",
       "      <td>-73.993010</td>\n",
       "      <td>NaN</td>\n",
       "      <td>NaN</td>\n",
       "      <td>casual</td>\n",
       "      <td>2021-12-31</td>\n",
       "      <td>NaN</td>\n",
       "      <td>19</td>\n",
       "      <td>both</td>\n",
       "    </tr>\n",
       "    <tr>\n",
       "      <th>53B738C6594CC191</th>\n",
       "      <td>electric_bike</td>\n",
       "      <td>2021-12-31 23:51:45.918</td>\n",
       "      <td>2022-01-01 00:20:15.060</td>\n",
       "      <td>Broadway &amp; W 61 St</td>\n",
       "      <td>7014.12</td>\n",
       "      <td>E 88 St &amp; 1 Ave</td>\n",
       "      <td>7235.13</td>\n",
       "      <td>40.77003</td>\n",
       "      <td>-73.981970</td>\n",
       "      <td>40.778300</td>\n",
       "      <td>-73.948814</td>\n",
       "      <td>casual</td>\n",
       "      <td>2021-12-31</td>\n",
       "      <td>NaN</td>\n",
       "      <td>19</td>\n",
       "      <td>both</td>\n",
       "    </tr>\n",
       "    <tr>\n",
       "      <th>2065757132FE97C0</th>\n",
       "      <td>classic_bike</td>\n",
       "      <td>2021-12-31 23:58:39.100</td>\n",
       "      <td>2022-01-01 00:01:02.766</td>\n",
       "      <td>W 47 St &amp; 10 Ave</td>\n",
       "      <td>6824.07</td>\n",
       "      <td>W 49 St &amp; 8 Ave</td>\n",
       "      <td>6747.06</td>\n",
       "      <td>40.76270</td>\n",
       "      <td>-73.993010</td>\n",
       "      <td>40.762270</td>\n",
       "      <td>-73.987885</td>\n",
       "      <td>casual</td>\n",
       "      <td>2021-12-31</td>\n",
       "      <td>NaN</td>\n",
       "      <td>19</td>\n",
       "      <td>both</td>\n",
       "    </tr>\n",
       "    <tr>\n",
       "      <th>FD0283A8C2A6FAEF</th>\n",
       "      <td>electric_bike</td>\n",
       "      <td>2021-12-31 23:51:27.961</td>\n",
       "      <td>2022-01-01 00:16:04.623</td>\n",
       "      <td>Wythe Ave &amp; Metropolitan Ave</td>\n",
       "      <td>5348.02</td>\n",
       "      <td>DeKalb Ave &amp; Franklin Ave</td>\n",
       "      <td>4528.01</td>\n",
       "      <td>40.71689</td>\n",
       "      <td>-73.963196</td>\n",
       "      <td>40.690647</td>\n",
       "      <td>-73.957460</td>\n",
       "      <td>member</td>\n",
       "      <td>2021-12-31</td>\n",
       "      <td>NaN</td>\n",
       "      <td>19</td>\n",
       "      <td>both</td>\n",
       "    </tr>\n",
       "  </tbody>\n",
       "</table>\n",
       "</div>"
      ],
      "text/plain": [
       "                  rideable_type               started_at  \\\n",
       "ride_id                                                    \n",
       "DA14E2F38543A9FF   classic_bike  2021-12-28 12:17:45.393   \n",
       "23643AF38D9D91ED   classic_bike  2021-12-31 09:49:35.149   \n",
       "53B738C6594CC191  electric_bike  2021-12-31 23:51:45.918   \n",
       "2065757132FE97C0   classic_bike  2021-12-31 23:58:39.100   \n",
       "FD0283A8C2A6FAEF  electric_bike  2021-12-31 23:51:27.961   \n",
       "\n",
       "                                 ended_at            start_station_name  \\\n",
       "ride_id                                                                   \n",
       "DA14E2F38543A9FF  2022-01-01 11:07:06.792               Southpoint Park   \n",
       "23643AF38D9D91ED  2022-01-01 10:49:15.878              W 47 St & 10 Ave   \n",
       "53B738C6594CC191  2022-01-01 00:20:15.060            Broadway & W 61 St   \n",
       "2065757132FE97C0  2022-01-01 00:01:02.766              W 47 St & 10 Ave   \n",
       "FD0283A8C2A6FAEF  2022-01-01 00:16:04.623  Wythe Ave & Metropolitan Ave   \n",
       "\n",
       "                 start_station_id           end_station_name end_station_id  \\\n",
       "ride_id                                                                       \n",
       "DA14E2F38543A9FF          6566.01                        NaN            NaN   \n",
       "23643AF38D9D91ED          6824.07                        NaN            NaN   \n",
       "53B738C6594CC191          7014.12            E 88 St & 1 Ave        7235.13   \n",
       "2065757132FE97C0          6824.07            W 49 St & 8 Ave        6747.06   \n",
       "FD0283A8C2A6FAEF          5348.02  DeKalb Ave & Franklin Ave        4528.01   \n",
       "\n",
       "                  start_lat  start_lng    end_lat    end_lng member_casual  \\\n",
       "ride_id                                                                      \n",
       "DA14E2F38543A9FF   40.75370 -73.958650        NaN        NaN        casual   \n",
       "23643AF38D9D91ED   40.76270 -73.993010        NaN        NaN        casual   \n",
       "53B738C6594CC191   40.77003 -73.981970  40.778300 -73.948814        casual   \n",
       "2065757132FE97C0   40.76270 -73.993010  40.762270 -73.987885        casual   \n",
       "FD0283A8C2A6FAEF   40.71689 -73.963196  40.690647 -73.957460        member   \n",
       "\n",
       "                        date  avgTemp  rides_daily _merge  \n",
       "ride_id                                                    \n",
       "DA14E2F38543A9FF  2021-12-28      NaN            1   both  \n",
       "23643AF38D9D91ED  2021-12-31      NaN           19   both  \n",
       "53B738C6594CC191  2021-12-31      NaN           19   both  \n",
       "2065757132FE97C0  2021-12-31      NaN           19   both  \n",
       "FD0283A8C2A6FAEF  2021-12-31      NaN           19   both  "
      ]
     },
     "execution_count": 3,
     "metadata": {},
     "output_type": "execute_result"
    }
   ],
   "source": [
    "df.head()"
   ]
  },
  {
   "cell_type": "code",
   "execution_count": 4,
   "id": "b380c866-3f9f-483d-93d6-c7ff99407d31",
   "metadata": {
    "tags": []
   },
   "outputs": [
    {
     "data": {
      "text/plain": [
       "(1000000, 16)"
      ]
     },
     "execution_count": 4,
     "metadata": {},
     "output_type": "execute_result"
    }
   ],
   "source": [
    "df.shape"
   ]
  },
  {
   "cell_type": "code",
   "execution_count": 5,
   "id": "15f1a63c-b9a6-4e33-8665-f05b964fcaec",
   "metadata": {
    "scrolled": true,
    "tags": []
   },
   "outputs": [
    {
     "data": {
      "text/plain": [
       "rideable_type          object\n",
       "started_at             object\n",
       "ended_at               object\n",
       "start_station_name     object\n",
       "start_station_id       object\n",
       "end_station_name       object\n",
       "end_station_id         object\n",
       "start_lat             float64\n",
       "start_lng             float64\n",
       "end_lat               float64\n",
       "end_lng               float64\n",
       "member_casual          object\n",
       "date                   object\n",
       "avgTemp               float64\n",
       "rides_daily             int64\n",
       "_merge                 object\n",
       "dtype: object"
      ]
     },
     "execution_count": 5,
     "metadata": {},
     "output_type": "execute_result"
    }
   ],
   "source": [
    "df.dtypes"
   ]
  },
  {
   "cell_type": "code",
   "execution_count": 6,
   "id": "88310007-fd6c-4f4f-b717-35508d3c44d4",
   "metadata": {
    "jupyter": {
     "source_hidden": true
    },
    "tags": []
   },
   "outputs": [],
   "source": [
    "# Drop _merge column \n",
    "\n",
    "df.drop(columns = {'_merge'}, inplace = True)\n",
    "\n",
    "# Convert to float32 for memory, keep NaNs\n",
    "\n",
    "df[['start_lat', 'start_lng', 'end_lat', 'end_lng', 'avgTemp']] = (\n",
    "    df[['start_lat', 'start_lng', 'end_lat', 'end_lng', 'avgTemp']].astype('float32'))"
   ]
  },
  {
   "cell_type": "code",
   "execution_count": 7,
   "id": "6a4e10fd-e5ad-469f-96b7-9c00f8131e5c",
   "metadata": {
    "tags": []
   },
   "outputs": [
    {
     "data": {
      "text/html": [
       "<div>\n",
       "<style scoped>\n",
       "    .dataframe tbody tr th:only-of-type {\n",
       "        vertical-align: middle;\n",
       "    }\n",
       "\n",
       "    .dataframe tbody tr th {\n",
       "        vertical-align: top;\n",
       "    }\n",
       "\n",
       "    .dataframe thead th {\n",
       "        text-align: right;\n",
       "    }\n",
       "</style>\n",
       "<table border=\"1\" class=\"dataframe\">\n",
       "  <thead>\n",
       "    <tr style=\"text-align: right;\">\n",
       "      <th></th>\n",
       "      <th>rideable_type</th>\n",
       "      <th>started_at</th>\n",
       "      <th>ended_at</th>\n",
       "      <th>start_station_name</th>\n",
       "      <th>start_station_id</th>\n",
       "      <th>end_station_name</th>\n",
       "      <th>end_station_id</th>\n",
       "      <th>start_lat</th>\n",
       "      <th>start_lng</th>\n",
       "      <th>end_lat</th>\n",
       "      <th>end_lng</th>\n",
       "      <th>member_casual</th>\n",
       "      <th>date</th>\n",
       "      <th>avgTemp</th>\n",
       "      <th>rides_daily</th>\n",
       "    </tr>\n",
       "    <tr>\n",
       "      <th>ride_id</th>\n",
       "      <th></th>\n",
       "      <th></th>\n",
       "      <th></th>\n",
       "      <th></th>\n",
       "      <th></th>\n",
       "      <th></th>\n",
       "      <th></th>\n",
       "      <th></th>\n",
       "      <th></th>\n",
       "      <th></th>\n",
       "      <th></th>\n",
       "      <th></th>\n",
       "      <th></th>\n",
       "      <th></th>\n",
       "      <th></th>\n",
       "    </tr>\n",
       "  </thead>\n",
       "  <tbody>\n",
       "    <tr>\n",
       "      <th>DA14E2F38543A9FF</th>\n",
       "      <td>classic_bike</td>\n",
       "      <td>2021-12-28 12:17:45.393</td>\n",
       "      <td>2022-01-01 11:07:06.792</td>\n",
       "      <td>Southpoint Park</td>\n",
       "      <td>6566.01</td>\n",
       "      <td>NaN</td>\n",
       "      <td>NaN</td>\n",
       "      <td>40.753700</td>\n",
       "      <td>-73.958649</td>\n",
       "      <td>NaN</td>\n",
       "      <td>NaN</td>\n",
       "      <td>casual</td>\n",
       "      <td>2021-12-28</td>\n",
       "      <td>NaN</td>\n",
       "      <td>1</td>\n",
       "    </tr>\n",
       "    <tr>\n",
       "      <th>23643AF38D9D91ED</th>\n",
       "      <td>classic_bike</td>\n",
       "      <td>2021-12-31 09:49:35.149</td>\n",
       "      <td>2022-01-01 10:49:15.878</td>\n",
       "      <td>W 47 St &amp; 10 Ave</td>\n",
       "      <td>6824.07</td>\n",
       "      <td>NaN</td>\n",
       "      <td>NaN</td>\n",
       "      <td>40.762699</td>\n",
       "      <td>-73.993011</td>\n",
       "      <td>NaN</td>\n",
       "      <td>NaN</td>\n",
       "      <td>casual</td>\n",
       "      <td>2021-12-31</td>\n",
       "      <td>NaN</td>\n",
       "      <td>19</td>\n",
       "    </tr>\n",
       "    <tr>\n",
       "      <th>53B738C6594CC191</th>\n",
       "      <td>electric_bike</td>\n",
       "      <td>2021-12-31 23:51:45.918</td>\n",
       "      <td>2022-01-01 00:20:15.060</td>\n",
       "      <td>Broadway &amp; W 61 St</td>\n",
       "      <td>7014.12</td>\n",
       "      <td>E 88 St &amp; 1 Ave</td>\n",
       "      <td>7235.13</td>\n",
       "      <td>40.770031</td>\n",
       "      <td>-73.981972</td>\n",
       "      <td>40.778301</td>\n",
       "      <td>-73.948814</td>\n",
       "      <td>casual</td>\n",
       "      <td>2021-12-31</td>\n",
       "      <td>NaN</td>\n",
       "      <td>19</td>\n",
       "    </tr>\n",
       "    <tr>\n",
       "      <th>2065757132FE97C0</th>\n",
       "      <td>classic_bike</td>\n",
       "      <td>2021-12-31 23:58:39.100</td>\n",
       "      <td>2022-01-01 00:01:02.766</td>\n",
       "      <td>W 47 St &amp; 10 Ave</td>\n",
       "      <td>6824.07</td>\n",
       "      <td>W 49 St &amp; 8 Ave</td>\n",
       "      <td>6747.06</td>\n",
       "      <td>40.762699</td>\n",
       "      <td>-73.993011</td>\n",
       "      <td>40.762272</td>\n",
       "      <td>-73.987885</td>\n",
       "      <td>casual</td>\n",
       "      <td>2021-12-31</td>\n",
       "      <td>NaN</td>\n",
       "      <td>19</td>\n",
       "    </tr>\n",
       "    <tr>\n",
       "      <th>FD0283A8C2A6FAEF</th>\n",
       "      <td>electric_bike</td>\n",
       "      <td>2021-12-31 23:51:27.961</td>\n",
       "      <td>2022-01-01 00:16:04.623</td>\n",
       "      <td>Wythe Ave &amp; Metropolitan Ave</td>\n",
       "      <td>5348.02</td>\n",
       "      <td>DeKalb Ave &amp; Franklin Ave</td>\n",
       "      <td>4528.01</td>\n",
       "      <td>40.716888</td>\n",
       "      <td>-73.963196</td>\n",
       "      <td>40.690647</td>\n",
       "      <td>-73.957458</td>\n",
       "      <td>member</td>\n",
       "      <td>2021-12-31</td>\n",
       "      <td>NaN</td>\n",
       "      <td>19</td>\n",
       "    </tr>\n",
       "  </tbody>\n",
       "</table>\n",
       "</div>"
      ],
      "text/plain": [
       "                  rideable_type               started_at  \\\n",
       "ride_id                                                    \n",
       "DA14E2F38543A9FF   classic_bike  2021-12-28 12:17:45.393   \n",
       "23643AF38D9D91ED   classic_bike  2021-12-31 09:49:35.149   \n",
       "53B738C6594CC191  electric_bike  2021-12-31 23:51:45.918   \n",
       "2065757132FE97C0   classic_bike  2021-12-31 23:58:39.100   \n",
       "FD0283A8C2A6FAEF  electric_bike  2021-12-31 23:51:27.961   \n",
       "\n",
       "                                 ended_at            start_station_name  \\\n",
       "ride_id                                                                   \n",
       "DA14E2F38543A9FF  2022-01-01 11:07:06.792               Southpoint Park   \n",
       "23643AF38D9D91ED  2022-01-01 10:49:15.878              W 47 St & 10 Ave   \n",
       "53B738C6594CC191  2022-01-01 00:20:15.060            Broadway & W 61 St   \n",
       "2065757132FE97C0  2022-01-01 00:01:02.766              W 47 St & 10 Ave   \n",
       "FD0283A8C2A6FAEF  2022-01-01 00:16:04.623  Wythe Ave & Metropolitan Ave   \n",
       "\n",
       "                 start_station_id           end_station_name end_station_id  \\\n",
       "ride_id                                                                       \n",
       "DA14E2F38543A9FF          6566.01                        NaN            NaN   \n",
       "23643AF38D9D91ED          6824.07                        NaN            NaN   \n",
       "53B738C6594CC191          7014.12            E 88 St & 1 Ave        7235.13   \n",
       "2065757132FE97C0          6824.07            W 49 St & 8 Ave        6747.06   \n",
       "FD0283A8C2A6FAEF          5348.02  DeKalb Ave & Franklin Ave        4528.01   \n",
       "\n",
       "                  start_lat  start_lng    end_lat    end_lng member_casual  \\\n",
       "ride_id                                                                      \n",
       "DA14E2F38543A9FF  40.753700 -73.958649        NaN        NaN        casual   \n",
       "23643AF38D9D91ED  40.762699 -73.993011        NaN        NaN        casual   \n",
       "53B738C6594CC191  40.770031 -73.981972  40.778301 -73.948814        casual   \n",
       "2065757132FE97C0  40.762699 -73.993011  40.762272 -73.987885        casual   \n",
       "FD0283A8C2A6FAEF  40.716888 -73.963196  40.690647 -73.957458        member   \n",
       "\n",
       "                        date  avgTemp  rides_daily  \n",
       "ride_id                                             \n",
       "DA14E2F38543A9FF  2021-12-28      NaN            1  \n",
       "23643AF38D9D91ED  2021-12-31      NaN           19  \n",
       "53B738C6594CC191  2021-12-31      NaN           19  \n",
       "2065757132FE97C0  2021-12-31      NaN           19  \n",
       "FD0283A8C2A6FAEF  2021-12-31      NaN           19  "
      ]
     },
     "execution_count": 7,
     "metadata": {},
     "output_type": "execute_result"
    }
   ],
   "source": [
    "df.head()"
   ]
  },
  {
   "cell_type": "code",
   "execution_count": 8,
   "id": "f0ad9c9f-100a-4308-9809-45dbf3a1a381",
   "metadata": {
    "tags": []
   },
   "outputs": [
    {
     "data": {
      "text/plain": [
       "(1000000, 15)"
      ]
     },
     "execution_count": 8,
     "metadata": {},
     "output_type": "execute_result"
    }
   ],
   "source": [
    "df.shape"
   ]
  },
  {
   "cell_type": "code",
   "execution_count": 9,
   "id": "a02c1b4d-d10e-4c68-a699-cbe193d91451",
   "metadata": {
    "tags": []
   },
   "outputs": [
    {
     "data": {
      "text/plain": [
       "rideable_type          object\n",
       "started_at             object\n",
       "ended_at               object\n",
       "start_station_name     object\n",
       "start_station_id       object\n",
       "end_station_name       object\n",
       "end_station_id         object\n",
       "start_lat             float32\n",
       "start_lng             float32\n",
       "end_lat               float32\n",
       "end_lng               float32\n",
       "member_casual          object\n",
       "date                   object\n",
       "avgTemp               float32\n",
       "rides_daily             int64\n",
       "dtype: object"
      ]
     },
     "execution_count": 9,
     "metadata": {},
     "output_type": "execute_result"
    }
   ],
   "source": [
    "df.dtypes"
   ]
  },
  {
   "cell_type": "markdown",
   "id": "9feb895c-5358-417d-9d37-f59ede0a65b6",
   "metadata": {
    "tags": []
   },
   "source": [
    "#### 2. Grouping data "
   ]
  },
  {
   "cell_type": "code",
   "execution_count": 10,
   "id": "c1457563-8697-450f-8349-03ba62d15efa",
   "metadata": {
    "tags": []
   },
   "outputs": [
    {
     "data": {
      "text/plain": [
       "Index(['rideable_type', 'started_at', 'ended_at', 'start_station_name',\n",
       "       'start_station_id', 'end_station_name', 'end_station_id', 'start_lat',\n",
       "       'start_lng', 'end_lat', 'end_lng', 'member_casual', 'date', 'avgTemp',\n",
       "       'rides_daily'],\n",
       "      dtype='object')"
      ]
     },
     "execution_count": 10,
     "metadata": {},
     "output_type": "execute_result"
    }
   ],
   "source": [
    "df.columns"
   ]
  },
  {
   "cell_type": "code",
   "execution_count": 11,
   "id": "7a683e50-345d-4919-94ae-f4d91599064d",
   "metadata": {
    "tags": []
   },
   "outputs": [],
   "source": [
    "# starting station, ending station, longitutes and latitudes, and the count of trips between those stations\n",
    "\n",
    "df['trips'] = 1\n",
    "df_group = df.groupby(['start_station_name', 'end_station_name', 'start_lat', 'start_lng', 'end_lat', 'end_lng'])['trips'].count().reset_index()"
   ]
  },
  {
   "cell_type": "code",
   "execution_count": 12,
   "id": "d205e5de-6a4c-4e6b-9538-432cd9b42198",
   "metadata": {
    "tags": []
   },
   "outputs": [
    {
     "data": {
      "text/html": [
       "<div>\n",
       "<style scoped>\n",
       "    .dataframe tbody tr th:only-of-type {\n",
       "        vertical-align: middle;\n",
       "    }\n",
       "\n",
       "    .dataframe tbody tr th {\n",
       "        vertical-align: top;\n",
       "    }\n",
       "\n",
       "    .dataframe thead th {\n",
       "        text-align: right;\n",
       "    }\n",
       "</style>\n",
       "<table border=\"1\" class=\"dataframe\">\n",
       "  <thead>\n",
       "    <tr style=\"text-align: right;\">\n",
       "      <th></th>\n",
       "      <th>start_station_name</th>\n",
       "      <th>end_station_name</th>\n",
       "      <th>start_lat</th>\n",
       "      <th>start_lng</th>\n",
       "      <th>end_lat</th>\n",
       "      <th>end_lng</th>\n",
       "      <th>trips</th>\n",
       "    </tr>\n",
       "  </thead>\n",
       "  <tbody>\n",
       "    <tr>\n",
       "      <th>0</th>\n",
       "      <td>1 Ave &amp; E 110 St</td>\n",
       "      <td>1 Ave &amp; E 110 St</td>\n",
       "      <td>40.792328</td>\n",
       "      <td>-73.938301</td>\n",
       "      <td>40.792328</td>\n",
       "      <td>-73.938301</td>\n",
       "      <td>26</td>\n",
       "    </tr>\n",
       "    <tr>\n",
       "      <th>1</th>\n",
       "      <td>1 Ave &amp; E 110 St</td>\n",
       "      <td>1 Ave &amp; E 110 St</td>\n",
       "      <td>40.792385</td>\n",
       "      <td>-73.938065</td>\n",
       "      <td>40.792328</td>\n",
       "      <td>-73.938301</td>\n",
       "      <td>1</td>\n",
       "    </tr>\n",
       "    <tr>\n",
       "      <th>2</th>\n",
       "      <td>1 Ave &amp; E 110 St</td>\n",
       "      <td>1 Ave &amp; E 110 St</td>\n",
       "      <td>40.792397</td>\n",
       "      <td>-73.938240</td>\n",
       "      <td>40.792328</td>\n",
       "      <td>-73.938301</td>\n",
       "      <td>1</td>\n",
       "    </tr>\n",
       "    <tr>\n",
       "      <th>3</th>\n",
       "      <td>1 Ave &amp; E 110 St</td>\n",
       "      <td>1 Ave &amp; E 110 St</td>\n",
       "      <td>40.792400</td>\n",
       "      <td>-73.938164</td>\n",
       "      <td>40.792328</td>\n",
       "      <td>-73.938301</td>\n",
       "      <td>1</td>\n",
       "    </tr>\n",
       "    <tr>\n",
       "      <th>4</th>\n",
       "      <td>1 Ave &amp; E 110 St</td>\n",
       "      <td>1 Ave &amp; E 62 St</td>\n",
       "      <td>40.792328</td>\n",
       "      <td>-73.938301</td>\n",
       "      <td>40.761227</td>\n",
       "      <td>-73.960938</td>\n",
       "      <td>1</td>\n",
       "    </tr>\n",
       "  </tbody>\n",
       "</table>\n",
       "</div>"
      ],
      "text/plain": [
       "  start_station_name  end_station_name  start_lat  start_lng    end_lat  \\\n",
       "0   1 Ave & E 110 St  1 Ave & E 110 St  40.792328 -73.938301  40.792328   \n",
       "1   1 Ave & E 110 St  1 Ave & E 110 St  40.792385 -73.938065  40.792328   \n",
       "2   1 Ave & E 110 St  1 Ave & E 110 St  40.792397 -73.938240  40.792328   \n",
       "3   1 Ave & E 110 St  1 Ave & E 110 St  40.792400 -73.938164  40.792328   \n",
       "4   1 Ave & E 110 St   1 Ave & E 62 St  40.792328 -73.938301  40.761227   \n",
       "\n",
       "     end_lng  trips  \n",
       "0 -73.938301     26  \n",
       "1 -73.938301      1  \n",
       "2 -73.938301      1  \n",
       "3 -73.938301      1  \n",
       "4 -73.960938      1  "
      ]
     },
     "execution_count": 12,
     "metadata": {},
     "output_type": "execute_result"
    }
   ],
   "source": [
    "df_group.head()"
   ]
  },
  {
   "cell_type": "code",
   "execution_count": 13,
   "id": "a92b40f2-7512-4107-a031-854e202af5fe",
   "metadata": {
    "tags": []
   },
   "outputs": [
    {
     "name": "stdout",
     "output_type": "stream",
     "text": [
      "997578\n",
      "(1000000, 16)\n"
     ]
    }
   ],
   "source": [
    "print(df_group['trips'].sum())\n",
    "print(df.shape)"
   ]
  },
  {
   "cell_type": "code",
   "execution_count": 14,
   "id": "ee80f978-f791-46c5-845d-59472f13ca1f",
   "metadata": {
    "tags": []
   },
   "outputs": [
    {
     "data": {
      "text/plain": [
       "start_station_name    0\n",
       "end_station_name      0\n",
       "start_lat             0\n",
       "start_lng             0\n",
       "end_lat               0\n",
       "end_lng               0\n",
       "trips                 0\n",
       "dtype: int64"
      ]
     },
     "execution_count": 14,
     "metadata": {},
     "output_type": "execute_result"
    }
   ],
   "source": [
    "# Check for NaN values\n",
    "\n",
    "df_group.isna().sum()"
   ]
  },
  {
   "cell_type": "code",
   "execution_count": 15,
   "id": "b8fe88e0-945d-46fc-bb83-d916a9432cbb",
   "metadata": {
    "tags": []
   },
   "outputs": [
    {
     "name": "stdout",
     "output_type": "stream",
     "text": [
      "1\n",
      "2422\n",
      "0\n",
      "1289\n",
      "0\n",
      "1289\n"
     ]
    }
   ],
   "source": [
    "print(df['start_station_name'].isna().sum())\n",
    "print(df['end_station_name'].isna().sum())\n",
    "print(df['start_lat'].isna().sum())\n",
    "print(df['end_lat'].isna().sum())\n",
    "print(df['start_lng'].isna().sum())\n",
    "print(df['end_lng'].isna().sum())"
   ]
  },
  {
   "cell_type": "code",
   "execution_count": 16,
   "id": "8d0dcc5b-959f-4416-9107-2048ecf81764",
   "metadata": {
    "tags": []
   },
   "outputs": [],
   "source": [
    "# fill NaN values with \"Uknown\"\n",
    "\n",
    "df['start_station_name'] = df['start_station_name'].fillna('Unknown')\n",
    "df['end_station_name'] = df['end_station_name'].fillna('Unknown')\n",
    "df['start_lat'] = df['start_lat'].fillna('Unknown')\n",
    "df['end_lat'] = df['end_lat'].fillna('Unknown')\n",
    "df['start_lng'] = df['start_lng'].fillna('Unknown')\n",
    "df['end_lng'] = df['end_lng'].fillna('Unknown')"
   ]
  },
  {
   "cell_type": "code",
   "execution_count": 17,
   "id": "b488a761-f83a-444c-854c-db4148f1d5d9",
   "metadata": {
    "tags": []
   },
   "outputs": [
    {
     "name": "stdout",
     "output_type": "stream",
     "text": [
      "0\n",
      "0\n",
      "0\n",
      "0\n",
      "0\n",
      "0\n"
     ]
    }
   ],
   "source": [
    "print(df['start_station_name'].isna().sum())\n",
    "print(df['end_station_name'].isna().sum())\n",
    "print(df['start_lat'].isna().sum())\n",
    "print(df['end_lat'].isna().sum())\n",
    "print(df['start_lng'].isna().sum())\n",
    "print(df['end_lng'].isna().sum())"
   ]
  },
  {
   "cell_type": "code",
   "execution_count": 18,
   "id": "c734f659-4715-435d-b0b4-9ac67fd1968f",
   "metadata": {
    "tags": []
   },
   "outputs": [
    {
     "data": {
      "text/plain": [
       "(1000000, 16)"
      ]
     },
     "execution_count": 18,
     "metadata": {},
     "output_type": "execute_result"
    }
   ],
   "source": [
    "df.shape"
   ]
  },
  {
   "cell_type": "markdown",
   "id": "de674f07-31c9-4d6f-ae95-a76a005c8a7e",
   "metadata": {},
   "source": [
    "#### Notes: \n",
    "\n",
    "NaN values in station start and end columns were changed to \"uknown\" to still allow for analysis of trips taken\n",
    "Later investigation can try to determine why these station names are unkown."
   ]
  },
  {
   "cell_type": "code",
   "execution_count": 19,
   "id": "9243ee2c-7146-4d65-9942-db57259fd967",
   "metadata": {
    "tags": []
   },
   "outputs": [],
   "source": [
    "# regrouping values \n",
    "\n",
    "df_group = df.groupby(['start_station_name', 'end_station_name', 'start_lat', 'start_lng', 'end_lat', 'end_lng'])['trips'].count().reset_index()"
   ]
  },
  {
   "cell_type": "code",
   "execution_count": 20,
   "id": "d138cc06-6550-4662-90ac-ba1d68fed951",
   "metadata": {
    "tags": []
   },
   "outputs": [
    {
     "name": "stdout",
     "output_type": "stream",
     "text": [
      "1000000\n",
      "(1000000, 16)\n"
     ]
    }
   ],
   "source": [
    "print(df_group['trips'].sum())\n",
    "print(df.shape)"
   ]
  },
  {
   "cell_type": "markdown",
   "id": "028a9921-f316-45b7-a6f2-df70556047b1",
   "metadata": {},
   "source": [
    "#### 3. Mapping Trips"
   ]
  },
  {
   "cell_type": "code",
   "execution_count": 21,
   "id": "4ba18121-0139-4e2d-82ca-ef82fd82e5ff",
   "metadata": {
    "tags": []
   },
   "outputs": [
    {
     "name": "stdout",
     "output_type": "stream",
     "text": [
      "User Guide: https://docs.kepler.gl/docs/keplergl-jupyter\n"
     ]
    }
   ],
   "source": [
    "# Create KeplerGl instance\n",
    "\n",
    "map = KeplerGl(height = 700, data={\"data_1\": df_group})"
   ]
  },
  {
   "cell_type": "code",
   "execution_count": 22,
   "id": "c4191026-335e-4cbe-a9e5-140efd4e8ec4",
   "metadata": {
    "collapsed": true,
    "jupyter": {
     "outputs_hidden": true
    },
    "scrolled": true
   },
   "outputs": [
    {
     "name": "stderr",
     "output_type": "stream",
     "text": [
      "C:\\Users\\walls\\AppData\\Roaming\\Python\\Python311\\site-packages\\IPython\\core\\formatters.py:367: FormatterWarning: text/html formatter returned invalid type <class 'bytes'> (expected <class 'str'>) for object: KeplerGl(data={'data_1':            start_station_name       end_station_name  start_lat  start_lng  \\\n",
      "0            1 Ave & E 110 St       1 Ave & E 110 St  40.792328 -73.938301   \n",
      "1            1 Ave & E 110 St       1 Ave & E 110 St  40.792385 -73.938065   \n",
      "2            1 Ave & E 110 St       1 Ave & E 110 St  40.792397 -73.938240   \n",
      "3            1 Ave & E 110 St       1 Ave & E 110 St  40.792400 -73.938164   \n",
      "4            1 Ave & E 110 St        1 Ave & E 62 St  40.792328 -73.938301   \n",
      "...                       ...                    ...        ...        ...   \n",
      "394925  Yankee Ferry Terminal                Unknown  40.687119 -74.016655   \n",
      "394926  Yankee Ferry Terminal     Water St & Main St  40.687065 -74.016754   \n",
      "394927  Yankee Ferry Terminal  West St & Chambers St  40.687065 -74.016754   \n",
      "394928  Yankee Ferry Terminal  Yankee Ferry Terminal  40.687046 -74.016663   \n",
      "394929  Yankee Ferry Terminal  Yankee Ferry Terminal  40.687065 -74.016754   \n",
      "\n",
      "          end_lat    end_lng  trips  \n",
      "0       40.792328 -73.938301     26  \n",
      "1       40.792328 -73.938301      1  \n",
      "2       40.792328 -73.938301      1  \n",
      "3       40.792328 -73.938301      1  \n",
      "4       40.761227 -73.960938      1  \n",
      "...           ...        ...    ...  \n",
      "394925      40.68 -74.029999      1  \n",
      "394926  40.703213  -73.99041      1  \n",
      "394927  40.717548 -74.013222      1  \n",
      "394928  40.687065 -74.016754      1  \n",
      "394929  40.687065 -74.016754    205  \n",
      "\n",
      "[394930 rows x 7 columns]}, height=700)\n",
      "  warnings.warn(\n"
     ]
    },
    {
     "data": {
      "application/vnd.jupyter.widget-view+json": {
       "model_id": "6916770eba7241cbaf7f8097cacbf6a5",
       "version_major": 2,
       "version_minor": 0
      },
      "text/plain": [
       "KeplerGl(data={'data_1':            start_station_name       end_station_name  start_lat  start_lng  \\\n",
       "0      …"
      ]
     },
     "execution_count": 22,
     "metadata": {},
     "output_type": "execute_result"
    }
   ],
   "source": [
    "map"
   ]
  },
  {
   "cell_type": "markdown",
   "id": "e4772298-c830-43eb-9064-38aa6ef8db4e",
   "metadata": {},
   "source": [
    "##### Notes: \n",
    "I chose to have three layers for the mapping of bike trips. Two of the layers are to show the start of a bike trip and the end of a bike trip. It could be useful to see how far users are going on their bikes for each trip. To help see this more clearly, the third layer is applied which draws a line that connects the start and end points. It actually appears stations with more trips also rarely have long trips. \n",
    "To better see stations with a high frequency of trips, a filter was added. The filter starts at 100 trips. We can see the more popular stations and we can also see that some points on the map are no connected. It would be good to see how often bikes are returned to the same station. Perhaps users returning bikes to different stations is a culprit for shortages as well."
   ]
  },
  {
   "cell_type": "markdown",
   "id": "3f27cd2f-d8e6-4691-8980-7142d1e5515d",
   "metadata": {},
   "source": [
    "#### Exports"
   ]
  },
  {
   "cell_type": "code",
   "execution_count": 23,
   "id": "a37f451f-8040-4317-b6a6-efee4c5fc997",
   "metadata": {},
   "outputs": [],
   "source": [
    "# save settings \n",
    "\n",
    "config = map.config"
   ]
  },
  {
   "cell_type": "code",
   "execution_count": 24,
   "id": "f9c3ed60-ba72-4921-8da3-ccbbce16cfd7",
   "metadata": {},
   "outputs": [
    {
     "name": "stdout",
     "output_type": "stream",
     "text": [
      "Map saved to 100+ Bike Trips.html!\n"
     ]
    }
   ],
   "source": [
    "# export map\n",
    "\n",
    "map.save_to_html(file_name='100+ Bike Trips.html', read_only = False, config = config)"
   ]
  },
  {
   "cell_type": "code",
   "execution_count": 26,
   "id": "649ceeeb-7c97-4b8f-9960-af2eecd883ae",
   "metadata": {},
   "outputs": [],
   "source": [
    "# export data frames\n",
    "\n",
    "df.to_csv('NY_bikedata2.csv', index=False)\n",
    "df_group.to_csv('NY_bikedata_trips.csv', index=False)"
   ]
  }
 ],
 "metadata": {
  "kernelspec": {
   "display_name": "Python [conda env:venv_bikes]",
   "language": "python",
   "name": "conda-env-venv_bikes-py"
  },
  "language_info": {
   "codemirror_mode": {
    "name": "ipython",
    "version": 3
   },
   "file_extension": ".py",
   "mimetype": "text/x-python",
   "name": "python",
   "nbconvert_exporter": "python",
   "pygments_lexer": "ipython3",
   "version": "3.11.11"
  }
 },
 "nbformat": 4,
 "nbformat_minor": 5
}
